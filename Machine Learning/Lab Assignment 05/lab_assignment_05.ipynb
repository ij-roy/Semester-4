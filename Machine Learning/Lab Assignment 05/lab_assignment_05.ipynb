{
 "cells": [
  {
   "cell_type": "markdown",
   "metadata": {},
   "source": [
    "# Lab Assignment 5"
   ]
  },
  {
   "cell_type": "markdown",
   "metadata": {},
   "source": [
    "### Imports"
   ]
  },
  {
   "cell_type": "code",
   "execution_count": 1,
   "metadata": {},
   "outputs": [],
   "source": [
    "import pandas as pd\n",
    "import numpy as np\n",
    "import matplotlib.pyplot as plt"
   ]
  },
  {
   "cell_type": "code",
   "execution_count": 2,
   "metadata": {},
   "outputs": [
    {
     "name": "stdout",
     "output_type": "stream",
     "text": [
      "DataFrame Head:\n",
      "    Posted On  BHK   Rent  Size            Floor    Area Type  \\\n",
      "0  2022-05-18    2  10000  1100  Ground out of 2   Super Area   \n",
      "1  2022-05-13    2  20000   800       1 out of 3   Super Area   \n",
      "2  2022-05-16    2  17000  1000       1 out of 3   Super Area   \n",
      "3  2022-07-04    2  10000   800       1 out of 2   Super Area   \n",
      "4  2022-05-09    2   7500   850       1 out of 2  Carpet Area   \n",
      "\n",
      "              Area Locality     City Furnishing Status  Tenant Preferred  \\\n",
      "0                    Bandel  Kolkata       Unfurnished  Bachelors/Family   \n",
      "1  Phool Bagan, Kankurgachi  Kolkata    Semi-Furnished  Bachelors/Family   \n",
      "2   Salt Lake City Sector 2  Kolkata    Semi-Furnished  Bachelors/Family   \n",
      "3               Dumdum Park  Kolkata       Unfurnished  Bachelors/Family   \n",
      "4             South Dum Dum  Kolkata       Unfurnished         Bachelors   \n",
      "\n",
      "   Bathroom Point of Contact  \n",
      "0         2    Contact Owner  \n",
      "1         1    Contact Owner  \n",
      "2         1    Contact Owner  \n",
      "3         1    Contact Owner  \n",
      "4         1    Contact Owner  \n",
      "\n",
      "DataFrame Info:\n",
      "<class 'pandas.core.frame.DataFrame'>\n",
      "RangeIndex: 4746 entries, 0 to 4745\n",
      "Data columns (total 12 columns):\n",
      " #   Column             Non-Null Count  Dtype \n",
      "---  ------             --------------  ----- \n",
      " 0   Posted On          4746 non-null   object\n",
      " 1   BHK                4746 non-null   int64 \n",
      " 2   Rent               4746 non-null   int64 \n",
      " 3   Size               4746 non-null   int64 \n",
      " 4   Floor              4746 non-null   object\n",
      " 5   Area Type          4746 non-null   object\n",
      " 6   Area Locality      4746 non-null   object\n",
      " 7   City               4746 non-null   object\n",
      " 8   Furnishing Status  4746 non-null   object\n",
      " 9   Tenant Preferred   4746 non-null   object\n",
      " 10  Bathroom           4746 non-null   int64 \n",
      " 11  Point of Contact   4746 non-null   object\n",
      "dtypes: int64(4), object(8)\n",
      "memory usage: 445.1+ KB\n",
      "None\n",
      "\n",
      "Descriptive Statistics:\n",
      "               BHK          Rent         Size     Bathroom\n",
      "count  4746.000000  4.746000e+03  4746.000000  4746.000000\n",
      "mean      2.083860  3.499345e+04   967.490729     1.965866\n",
      "std       0.832256  7.810641e+04   634.202328     0.884532\n",
      "min       1.000000  1.200000e+03    10.000000     1.000000\n",
      "25%       2.000000  1.000000e+04   550.000000     1.000000\n",
      "50%       2.000000  1.600000e+04   850.000000     2.000000\n",
      "75%       3.000000  3.300000e+04  1200.000000     2.000000\n",
      "max       6.000000  3.500000e+06  8000.000000    10.000000\n"
     ]
    }
   ],
   "source": [
    "file_path = \"House_Rent_Dataset.csv\"\n",
    "data = pd.read_csv(file_path)\n",
    "# Part A: \n",
    "print(\"DataFrame Head:\")\n",
    "print(data.head())\n",
    "print(\"\\nDataFrame Info:\")\n",
    "print(data.info())\n",
    "print(\"\\nDescriptive Statistics:\")\n",
    "print(data.describe())"
   ]
  },
  {
   "cell_type": "code",
   "execution_count": null,
   "metadata": {},
   "outputs": [],
   "source": []
  }
 ],
 "metadata": {
  "kernelspec": {
   "display_name": "base",
   "language": "python",
   "name": "python3"
  },
  "language_info": {
   "codemirror_mode": {
    "name": "ipython",
    "version": 3
   },
   "file_extension": ".py",
   "mimetype": "text/x-python",
   "name": "python",
   "nbconvert_exporter": "python",
   "pygments_lexer": "ipython3",
   "version": "3.12.4"
  }
 },
 "nbformat": 4,
 "nbformat_minor": 2
}
