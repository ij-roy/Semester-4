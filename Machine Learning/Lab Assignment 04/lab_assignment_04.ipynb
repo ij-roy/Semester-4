{
 "cells": [
  {
   "cell_type": "markdown",
   "metadata": {},
   "source": [
    "# Lab Assignment 4"
   ]
  },
  {
   "cell_type": "markdown",
   "metadata": {},
   "source": [
    "### Imports"
   ]
  },
  {
   "cell_type": "code",
   "execution_count": 56,
   "metadata": {},
   "outputs": [],
   "source": [
    "import pandas as pd\n",
    "import numpy as np\n",
    "import matplotlib.pyplot as plt"
   ]
  },
  {
   "cell_type": "code",
   "execution_count": 57,
   "metadata": {},
   "outputs": [
    {
     "name": "stdout",
     "output_type": "stream",
     "text": [
      "DataFrame Head:\n",
      "   Population   Profit\n",
      "0      6.1101  17.5920\n",
      "1      5.5277   9.1302\n",
      "2      8.5186  13.6620\n",
      "3      7.0032  11.8540\n",
      "4      5.8598   6.8233\n",
      "\n",
      "DataFrame Info:\n",
      "<class 'pandas.core.frame.DataFrame'>\n",
      "RangeIndex: 97 entries, 0 to 96\n",
      "Data columns (total 2 columns):\n",
      " #   Column      Non-Null Count  Dtype  \n",
      "---  ------      --------------  -----  \n",
      " 0   Population  97 non-null     float64\n",
      " 1   Profit      97 non-null     float64\n",
      "dtypes: float64(2)\n",
      "memory usage: 1.6 KB\n",
      "None\n",
      "\n",
      "Descriptive Statistics:\n",
      "       Population     Profit\n",
      "count   97.000000  97.000000\n",
      "mean     8.159800   5.839135\n",
      "std      3.869884   5.510262\n",
      "min      5.026900  -2.680700\n",
      "25%      5.707700   1.986900\n",
      "50%      6.589400   4.562300\n",
      "75%      8.578100   7.046700\n",
      "max     22.203000  24.147000\n"
     ]
    }
   ],
   "source": [
    "file_path = \"profits.txt\"\n",
    "data = pd.read_csv(file_path, sep=\",\",names=[\"Population\", \"Profit\"])\n",
    "# Part A: \n",
    "print(\"DataFrame Head:\")\n",
    "print(data.head())\n",
    "print(\"\\nDataFrame Info:\")\n",
    "print(data.info())\n",
    "print(\"\\nDescriptive Statistics:\")\n",
    "print(data.describe())"
   ]
  },
  {
   "cell_type": "code",
   "execution_count": 58,
   "metadata": {},
   "outputs": [
    {
     "data": {
      "image/png": "[encoded data removed]",
      "text/plain": [
       "<Figure size 1000x500 with 1 Axes>"
      ]
     },
     "metadata": {},
     "output_type": "display_data"
    }
   ],
   "source": [
    "# Scatter Plot\n",
    "plt.figure(figsize=(10, 5))\n",
    "plt.scatter(data[\"Population\"], data[\"Profit\"])\n",
    "plt.title(\"Population vs Profit\")\n",
    "plt.xlabel(\"Population\")\n",
    "plt.ylabel(\"Profit\")\n",
    "plt.show()"
   ]
  },
  {
   "cell_type": "markdown",
   "metadata": {},
   "source": [
    "## Linear Regression"
   ]
  },
  {
   "cell_type": "code",
   "execution_count": 59,
   "metadata": {},
   "outputs": [],
   "source": [
    "class MyLinearRegression:\n",
    "    def __init__(self, X: np.ndarray, y: np.ndarray, learning_rate=0.01, iterations=1000):\n",
    "        if X.shape[0] != y.shape[0]:\n",
    "            raise ValueError(\"Number of samples in X and y must be equal.\")\n",
    "        \n",
    "\n",
    "        print(\"Model initialized successfully.\")\n",
    "\n",
    "        # Instance Variables\n",
    "        self.learning_rate = learning_rate\n",
    "        self.iterations = iterations\n",
    "\n",
    "        print(\"Model initialized successfully with learning rate =\", learning_rate, \"and iterations =\", iterations)\n",
    "\n",
    "    def compute_cost(self):\n",
    "        m = self.y.size\n",
    "        predictions = self.X.dot(self.theta)\n",
    "        errors = predictions - self.y\n",
    "        cost = (1 / (2 * m)) * np.sum(errors ** 2)\n",
    "        return cost"
   ]
  },
  {
   "cell_type": "code",
   "execution_count": 60,
   "metadata": {},
   "outputs": [
    {
     "name": "stdout",
     "output_type": "stream",
     "text": [
      "Model initialized successfully.\n",
      "Model initialized successfully with learning rate = 0.01 and iterations = 1000\n"
     ]
    }
   ],
   "source": [
    "X = np.array([[1], [2], [3], [4]])\n",
    "y = np.array([2, 4, 6, 8])\n",
    "\n",
    "model = MyLinearRegression(X, y)\n"
   ]
  },
  {
   "cell_type": "code",
   "execution_count": 61,
   "metadata": {},
   "outputs": [
    {
     "name": "stdout",
     "output_type": "stream",
     "text": [
      "Number of samples in X and y must be equal.\n"
     ]
    }
   ],
   "source": [
    "X = np.array([[1], [2], [3]])\n",
    "y = np.array([2, 4])  \n",
    "try:\n",
    "    model = MyLinearRegression(X, y)\n",
    "except ValueError as e:\n",
    "    print(e)\n"
   ]
  },
  {
   "cell_type": "code",
   "execution_count": 62,
   "metadata": {},
   "outputs": [
    {
     "name": "stdout",
     "output_type": "stream",
     "text": [
      "Model initialized successfully.\n",
      "Model initialized successfully with learning rate = 0.01 and iterations = 1000\n"
     ]
    },
    {
     "ename": "AttributeError",
     "evalue": "'MyLinearRegression' object has no attribute 'y'",
     "output_type": "error",
     "traceback": [
      "\u001b[1;31m---------------------------------------------------------------------------\u001b[0m",
      "\u001b[1;31mAttributeError\u001b[0m                            Traceback (most recent call last)",
      "Cell \u001b[1;32mIn[62], line 12\u001b[0m\n\u001b[0;32m      9\u001b[0m model\u001b[38;5;241m.\u001b[39mtheta \u001b[38;5;241m=\u001b[39m np\u001b[38;5;241m.\u001b[39marray([[\u001b[38;5;241m0\u001b[39m], [\u001b[38;5;241m2\u001b[39m]])  \u001b[38;5;66;03m# Set θ0 = 0, θ1 = 2\u001b[39;00m\n\u001b[0;32m     11\u001b[0m \u001b[38;5;66;03m# Compute Cost\u001b[39;00m\n\u001b[1;32m---> 12\u001b[0m cost \u001b[38;5;241m=\u001b[39m \u001b[43mmodel\u001b[49m\u001b[38;5;241;43m.\u001b[39;49m\u001b[43mcompute_cost\u001b[49m\u001b[43m(\u001b[49m\u001b[43m)\u001b[49m\n\u001b[0;32m     13\u001b[0m \u001b[38;5;28mprint\u001b[39m(\u001b[38;5;124m\"\u001b[39m\u001b[38;5;124mComputed Cost:\u001b[39m\u001b[38;5;124m\"\u001b[39m, cost)\n",
      "Cell \u001b[1;32mIn[59], line 16\u001b[0m, in \u001b[0;36mMyLinearRegression.compute_cost\u001b[1;34m(self)\u001b[0m\n\u001b[0;32m     15\u001b[0m \u001b[38;5;28;01mdef\u001b[39;00m \u001b[38;5;21mcompute_cost\u001b[39m(\u001b[38;5;28mself\u001b[39m):\n\u001b[1;32m---> 16\u001b[0m     m \u001b[38;5;241m=\u001b[39m \u001b[38;5;28;43mself\u001b[39;49m\u001b[38;5;241;43m.\u001b[39;49m\u001b[43my\u001b[49m\u001b[38;5;241m.\u001b[39msize\n\u001b[0;32m     17\u001b[0m     predictions \u001b[38;5;241m=\u001b[39m \u001b[38;5;28mself\u001b[39m\u001b[38;5;241m.\u001b[39mX\u001b[38;5;241m.\u001b[39mdot(\u001b[38;5;28mself\u001b[39m\u001b[38;5;241m.\u001b[39mtheta)\n\u001b[0;32m     18\u001b[0m     errors \u001b[38;5;241m=\u001b[39m predictions \u001b[38;5;241m-\u001b[39m \u001b[38;5;28mself\u001b[39m\u001b[38;5;241m.\u001b[39my\n",
      "\u001b[1;31mAttributeError\u001b[0m: 'MyLinearRegression' object has no attribute 'y'"
     ]
    }
   ],
   "source": [
    "# Test Data\n",
    "X = np.array([[1], [2], [3], [4]])  \n",
    "y = np.array([2, 4, 6, 8])  \n",
    "\n",
    "\n",
    "model = MyLinearRegression(X, y)\n",
    "\n",
    "\n",
    "model.theta = np.array([[0], [2]])  # Set θ0 = 0, θ1 = 2\n",
    "\n",
    "# Compute Cost\n",
    "cost = model.compute_cost()\n",
    "print(\"Computed Cost:\", cost)\n"
   ]
  },
  {
   "cell_type": "code",
   "execution_count": null,
   "metadata": {},
   "outputs": [],
   "source": []
  },
  {
   "cell_type": "code",
   "execution_count": null,
   "metadata": {},
   "outputs": [],
   "source": []
  }
 ],
 "metadata": {
  "kernelspec": {
   "display_name": "Python 3",
   "language": "python",
   "name": "python3"
  },
  "language_info": {
   "codemirror_mode": {
    "name": "ipython",
    "version": 3
   },
   "file_extension": ".py",
   "mimetype": "text/x-python",
   "name": "python",
   "nbconvert_exporter": "python",
   "pygments_lexer": "ipython3",
   "version": "3.12.2"
  }
 },
 "nbformat": 4,
 "nbformat_minor": 2
}
