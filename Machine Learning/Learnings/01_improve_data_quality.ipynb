{
 "cells": [
  {
   "cell_type": "markdown",
   "metadata": {},
   "source": [
    "# Hi IJ Roy"
   ]
  },
  {
   "cell_type": "markdown",
   "metadata": {},
   "source": [
    "## Video 1"
   ]
  },
  {
   "cell_type": "code",
   "execution_count": 1,
   "metadata": {},
   "outputs": [],
   "source": [
    "import pandas as pd\n",
    "import numpy as np\n",
    "import matplotlib.pyplot as plt\n",
    "\n",
    "import seaborn as sns"
   ]
  },
  {
   "cell_type": "code",
   "execution_count": 3,
   "metadata": {},
   "outputs": [
    {
     "name": "stdout",
     "output_type": "stream",
     "text": [
      "2.18.0\n"
     ]
    }
   ],
   "source": [
    "import tensorflow as tf\n",
    "print(tf.__version__)"
   ]
  },
  {
   "cell_type": "code",
   "execution_count": 70,
   "metadata": {},
   "outputs": [
    {
     "data": {
      "application/vnd.microsoft.datawrangler.viewer.v0+json": {
       "columns": [
        {
         "name": "index",
         "rawType": "int64",
         "type": "integer"
        },
        {
         "name": "Date",
         "rawType": "object",
         "type": "unknown"
        },
        {
         "name": "Zip Code",
         "rawType": "float64",
         "type": "float"
        },
        {
         "name": "Model Year",
         "rawType": "object",
         "type": "unknown"
        },
        {
         "name": "Fuel",
         "rawType": "object",
         "type": "string"
        },
        {
         "name": "Make",
         "rawType": "object",
         "type": "unknown"
        },
        {
         "name": "Light_Duty",
         "rawType": "object",
         "type": "unknown"
        },
        {
         "name": "Vehicles",
         "rawType": "float64",
         "type": "float"
        }
       ],
       "conversionMethod": "pd.DataFrame",
       "ref": "790997ed-baa0-4702-8b51-f7052c0f2779",
       "rows": [
        [
         "0",
         "10/1/2018",
         "90000.0",
         "2006",
         "Gasoline",
         "OTHER/UNK",
         null,
         "1.0"
        ],
        [
         "1",
         "10/1/2018",
         null,
         "2014",
         "Gasoline",
         null,
         "Yes",
         "1.0"
        ],
        [
         "2",
         null,
         "90000.0",
         null,
         "Gasoline",
         "OTHER/UNK",
         "Yes",
         null
        ],
        [
         "3",
         "10/1/2018",
         "90000.0",
         "2017",
         "Gasoline",
         "OTHER/UNK",
         "Yes",
         "1.0"
        ],
        [
         "4",
         "10/1/2018",
         "90000.0",
         "<2006",
         "Diesel and Diesel Hybrid",
         "OTHER/UNK",
         "No",
         "55.0"
        ]
       ],
       "shape": {
        "columns": 7,
        "rows": 5
       }
      },
      "text/html": [
       "<div>\n",
       "<style scoped>\n",
       "    .dataframe tbody tr th:only-of-type {\n",
       "        vertical-align: middle;\n",
       "    }\n",
       "\n",
       "    .dataframe tbody tr th {\n",
       "        vertical-align: top;\n",
       "    }\n",
       "\n",
       "    .dataframe thead th {\n",
       "        text-align: right;\n",
       "    }\n",
       "</style>\n",
       "<table border=\"1\" class=\"dataframe\">\n",
       "  <thead>\n",
       "    <tr style=\"text-align: right;\">\n",
       "      <th></th>\n",
       "      <th>Date</th>\n",
       "      <th>Zip Code</th>\n",
       "      <th>Model Year</th>\n",
       "      <th>Fuel</th>\n",
       "      <th>Make</th>\n",
       "      <th>Light_Duty</th>\n",
       "      <th>Vehicles</th>\n",
       "    </tr>\n",
       "  </thead>\n",
       "  <tbody>\n",
       "    <tr>\n",
       "      <th>0</th>\n",
       "      <td>10/1/2018</td>\n",
       "      <td>90000.0</td>\n",
       "      <td>2006</td>\n",
       "      <td>Gasoline</td>\n",
       "      <td>OTHER/UNK</td>\n",
       "      <td>NaN</td>\n",
       "      <td>1.0</td>\n",
       "    </tr>\n",
       "    <tr>\n",
       "      <th>1</th>\n",
       "      <td>10/1/2018</td>\n",
       "      <td>NaN</td>\n",
       "      <td>2014</td>\n",
       "      <td>Gasoline</td>\n",
       "      <td>NaN</td>\n",
       "      <td>Yes</td>\n",
       "      <td>1.0</td>\n",
       "    </tr>\n",
       "    <tr>\n",
       "      <th>2</th>\n",
       "      <td>NaN</td>\n",
       "      <td>90000.0</td>\n",
       "      <td>NaN</td>\n",
       "      <td>Gasoline</td>\n",
       "      <td>OTHER/UNK</td>\n",
       "      <td>Yes</td>\n",
       "      <td>NaN</td>\n",
       "    </tr>\n",
       "    <tr>\n",
       "      <th>3</th>\n",
       "      <td>10/1/2018</td>\n",
       "      <td>90000.0</td>\n",
       "      <td>2017</td>\n",
       "      <td>Gasoline</td>\n",
       "      <td>OTHER/UNK</td>\n",
       "      <td>Yes</td>\n",
       "      <td>1.0</td>\n",
       "    </tr>\n",
       "    <tr>\n",
       "      <th>4</th>\n",
       "      <td>10/1/2018</td>\n",
       "      <td>90000.0</td>\n",
       "      <td>&lt;2006</td>\n",
       "      <td>Diesel and Diesel Hybrid</td>\n",
       "      <td>OTHER/UNK</td>\n",
       "      <td>No</td>\n",
       "      <td>55.0</td>\n",
       "    </tr>\n",
       "  </tbody>\n",
       "</table>\n",
       "</div>"
      ],
      "text/plain": [
       "        Date  Zip Code Model Year                      Fuel       Make  \\\n",
       "0  10/1/2018   90000.0       2006                  Gasoline  OTHER/UNK   \n",
       "1  10/1/2018       NaN       2014                  Gasoline        NaN   \n",
       "2        NaN   90000.0        NaN                  Gasoline  OTHER/UNK   \n",
       "3  10/1/2018   90000.0       2017                  Gasoline  OTHER/UNK   \n",
       "4  10/1/2018   90000.0      <2006  Diesel and Diesel Hybrid  OTHER/UNK   \n",
       "\n",
       "  Light_Duty  Vehicles  \n",
       "0        NaN       1.0  \n",
       "1        Yes       1.0  \n",
       "2        Yes       NaN  \n",
       "3        Yes       1.0  \n",
       "4         No      55.0  "
      ]
     },
     "execution_count": 70,
     "metadata": {},
     "output_type": "execute_result"
    }
   ],
   "source": [
    "#creating the dataframe\n",
    "df_transport = pd.read_csv('untidy_vehicle_data_toy.csv')\n",
    "df_transport.head()"
   ]
  },
  {
   "cell_type": "code",
   "execution_count": 71,
   "metadata": {},
   "outputs": [
    {
     "data": {
      "text/plain": [
       "Date          2\n",
       "Zip Code      2\n",
       "Model Year    2\n",
       "Fuel          2\n",
       "Make          3\n",
       "Light_Duty    3\n",
       "Vehicles      3\n",
       "dtype: int64"
      ]
     },
     "execution_count": 71,
     "metadata": {},
     "output_type": "execute_result"
    }
   ],
   "source": [
    "df_transport.isnull().sum()"
   ]
  },
  {
   "cell_type": "markdown",
   "metadata": {},
   "source": [
    "### Remove Missing Values"
   ]
  },
  {
   "cell_type": "code",
   "execution_count": 72,
   "metadata": {},
   "outputs": [],
   "source": [
    "df_transport = df_transport.apply(lambda x : x.fillna(x.value_counts().index[0]))"
   ]
  },
  {
   "cell_type": "code",
   "execution_count": 73,
   "metadata": {},
   "outputs": [
    {
     "data": {
      "text/plain": [
       "Date          0\n",
       "Zip Code      0\n",
       "Model Year    0\n",
       "Fuel          0\n",
       "Make          0\n",
       "Light_Duty    0\n",
       "Vehicles      0\n",
       "dtype: int64"
      ]
     },
     "execution_count": 73,
     "metadata": {},
     "output_type": "execute_result"
    }
   ],
   "source": [
    "df_transport.isnull().sum()"
   ]
  },
  {
   "cell_type": "code",
   "execution_count": 74,
   "metadata": {},
   "outputs": [
    {
     "name": "stdout",
     "output_type": "stream",
     "text": [
      "0      10/1/2018\n",
      "1      10/1/2018\n",
      "2      10/1/2018\n",
      "3      10/1/2018\n",
      "4      10/1/2018\n",
      "         ...    \n",
      "494    12/3/2018\n",
      "495    12/4/2018\n",
      "496    12/5/2018\n",
      "497    12/6/2018\n",
      "498    12/7/2018\n",
      "Name: Date, Length: 499, dtype: object\n"
     ]
    }
   ],
   "source": [
    "print(df_transport['Date'])"
   ]
  },
  {
   "cell_type": "code",
   "execution_count": 75,
   "metadata": {},
   "outputs": [
    {
     "name": "stdout",
     "output_type": "stream",
     "text": [
      "0      False\n",
      "1      False\n",
      "2      False\n",
      "3      False\n",
      "4      False\n",
      "       ...  \n",
      "494    False\n",
      "495    False\n",
      "496    False\n",
      "497    False\n",
      "498    False\n",
      "Name: Date, Length: 499, dtype: bool\n"
     ]
    }
   ],
   "source": [
    "print(df_transport['Date'].isnull())"
   ]
  },
  {
   "cell_type": "code",
   "execution_count": 76,
   "metadata": {},
   "outputs": [
    {
     "name": "stdout",
     "output_type": "stream",
     "text": [
      "Rows : 499\n",
      "Columns : 7\n",
      "Feature : ['Date', 'Zip Code', 'Model Year', 'Fuel', 'Make', 'Light_Duty', 'Vehicles']\n",
      "Unique :\n",
      "Date          130\n",
      "Zip Code        4\n",
      "Model Year     15\n",
      "Fuel            8\n",
      "Make           43\n",
      "Light_Duty      2\n",
      "Vehicles      151\n",
      "dtype: int64\n",
      "Missing Values : 0\n"
     ]
    }
   ],
   "source": [
    "print(\"Rows :\",df_transport.shape[0])\n",
    "print(\"Columns :\",df_transport.shape[1])\n",
    "print(\"Feature :\",df_transport.columns.to_list())\n",
    "print(\"Unique :\")\n",
    "print(df_transport.nunique())\n",
    "print(\"Missing Values :\",df_transport.isnull().sum().values.sum())"
   ]
  },
  {
   "cell_type": "code",
   "execution_count": 77,
   "metadata": {},
   "outputs": [
    {
     "name": "stdout",
     "output_type": "stream",
     "text": [
      "<class 'pandas.core.frame.DataFrame'>\n",
      "RangeIndex: 499 entries, 0 to 498\n",
      "Data columns (total 7 columns):\n",
      " #   Column      Non-Null Count  Dtype  \n",
      "---  ------      --------------  -----  \n",
      " 0   Date        499 non-null    object \n",
      " 1   Zip Code    499 non-null    float64\n",
      " 2   Model Year  499 non-null    object \n",
      " 3   Fuel        499 non-null    object \n",
      " 4   Make        499 non-null    object \n",
      " 5   Light_Duty  499 non-null    object \n",
      " 6   Vehicles    499 non-null    float64\n",
      "dtypes: float64(2), object(5)\n",
      "memory usage: 27.4+ KB\n"
     ]
    }
   ],
   "source": [
    "df_transport.info()"
   ]
  },
  {
   "cell_type": "markdown",
   "metadata": {},
   "source": [
    "### Convert date feature to Datetime Format"
   ]
  },
  {
   "cell_type": "code",
   "execution_count": 78,
   "metadata": {},
   "outputs": [],
   "source": [
    "#Convert date feature to Datetime Format\n",
    "df_transport['Date'] = pd.to_datetime(df_transport['Date'],format=\"%m/%d/%Y\")\n"
   ]
  },
  {
   "cell_type": "code",
   "execution_count": 79,
   "metadata": {},
   "outputs": [
    {
     "name": "stdout",
     "output_type": "stream",
     "text": [
      "<class 'pandas.core.frame.DataFrame'>\n",
      "RangeIndex: 499 entries, 0 to 498\n",
      "Data columns (total 7 columns):\n",
      " #   Column      Non-Null Count  Dtype         \n",
      "---  ------      --------------  -----         \n",
      " 0   Date        499 non-null    datetime64[ns]\n",
      " 1   Zip Code    499 non-null    float64       \n",
      " 2   Model Year  499 non-null    object        \n",
      " 3   Fuel        499 non-null    object        \n",
      " 4   Make        499 non-null    object        \n",
      " 5   Light_Duty  499 non-null    object        \n",
      " 6   Vehicles    499 non-null    float64       \n",
      "dtypes: datetime64[ns](1), float64(2), object(4)\n",
      "memory usage: 27.4+ KB\n"
     ]
    }
   ],
   "source": [
    "df_transport.info()"
   ]
  },
  {
   "cell_type": "markdown",
   "metadata": {},
   "source": [
    "### Parsing the Datetime Format"
   ]
  },
  {
   "cell_type": "code",
   "execution_count": 80,
   "metadata": {},
   "outputs": [],
   "source": [
    "#Parse date time format \n",
    "df_transport['year'] = df_transport['Date'].dt.year\n",
    "df_transport['month'] = df_transport['Date'].dt.month\n",
    "df_transport['day'] = df_transport['Date'].dt.day\n",
    "# df_transport['hour'] = df_transport['Date'].dt.hour\n",
    "# df_transport['minute'] = df_transport['Date'].dt.minute\n",
    "# df_transport['second'] = df_transport['Date'].dt.second\n",
    "# df_transport['millisecond'] = df_transport['Date'].dt.millisecond"
   ]
  },
  {
   "cell_type": "code",
   "execution_count": 81,
   "metadata": {},
   "outputs": [
    {
     "data": {
      "application/vnd.microsoft.datawrangler.viewer.v0+json": {
       "columns": [
        {
         "name": "index",
         "rawType": "int64",
         "type": "integer"
        },
        {
         "name": "Date",
         "rawType": "datetime64[ns]",
         "type": "datetime"
        },
        {
         "name": "Zip Code",
         "rawType": "float64",
         "type": "float"
        },
        {
         "name": "Model Year",
         "rawType": "object",
         "type": "string"
        },
        {
         "name": "Fuel",
         "rawType": "object",
         "type": "string"
        },
        {
         "name": "Make",
         "rawType": "object",
         "type": "string"
        },
        {
         "name": "Light_Duty",
         "rawType": "object",
         "type": "string"
        },
        {
         "name": "Vehicles",
         "rawType": "float64",
         "type": "float"
        },
        {
         "name": "year",
         "rawType": "int32",
         "type": "integer"
        },
        {
         "name": "month",
         "rawType": "int32",
         "type": "integer"
        },
        {
         "name": "day",
         "rawType": "int32",
         "type": "integer"
        }
       ],
       "conversionMethod": "pd.DataFrame",
       "ref": "b35aee5a-839d-40bc-89bc-65e8f475381e",
       "rows": [
        [
         "0",
         "2018-10-01 00:00:00",
         "90000.0",
         "2006",
         "Gasoline",
         "OTHER/UNK",
         "Yes",
         "1.0",
         "2018",
         "10",
         "1"
        ],
        [
         "1",
         "2018-10-01 00:00:00",
         "90001.0",
         "2014",
         "Gasoline",
         "OTHER/UNK",
         "Yes",
         "1.0",
         "2018",
         "10",
         "1"
        ],
        [
         "2",
         "2018-10-01 00:00:00",
         "90000.0",
         "<2006",
         "Gasoline",
         "OTHER/UNK",
         "Yes",
         "13.0",
         "2018",
         "10",
         "1"
        ],
        [
         "3",
         "2018-10-01 00:00:00",
         "90000.0",
         "2017",
         "Gasoline",
         "OTHER/UNK",
         "Yes",
         "1.0",
         "2018",
         "10",
         "1"
        ],
        [
         "4",
         "2018-10-01 00:00:00",
         "90000.0",
         "<2006",
         "Diesel and Diesel Hybrid",
         "OTHER/UNK",
         "No",
         "55.0",
         "2018",
         "10",
         "1"
        ]
       ],
       "shape": {
        "columns": 10,
        "rows": 5
       }
      },
      "text/html": [
       "<div>\n",
       "<style scoped>\n",
       "    .dataframe tbody tr th:only-of-type {\n",
       "        vertical-align: middle;\n",
       "    }\n",
       "\n",
       "    .dataframe tbody tr th {\n",
       "        vertical-align: top;\n",
       "    }\n",
       "\n",
       "    .dataframe thead th {\n",
       "        text-align: right;\n",
       "    }\n",
       "</style>\n",
       "<table border=\"1\" class=\"dataframe\">\n",
       "  <thead>\n",
       "    <tr style=\"text-align: right;\">\n",
       "      <th></th>\n",
       "      <th>Date</th>\n",
       "      <th>Zip Code</th>\n",
       "      <th>Model Year</th>\n",
       "      <th>Fuel</th>\n",
       "      <th>Make</th>\n",
       "      <th>Light_Duty</th>\n",
       "      <th>Vehicles</th>\n",
       "      <th>year</th>\n",
       "      <th>month</th>\n",
       "      <th>day</th>\n",
       "    </tr>\n",
       "  </thead>\n",
       "  <tbody>\n",
       "    <tr>\n",
       "      <th>0</th>\n",
       "      <td>2018-10-01</td>\n",
       "      <td>90000.0</td>\n",
       "      <td>2006</td>\n",
       "      <td>Gasoline</td>\n",
       "      <td>OTHER/UNK</td>\n",
       "      <td>Yes</td>\n",
       "      <td>1.0</td>\n",
       "      <td>2018</td>\n",
       "      <td>10</td>\n",
       "      <td>1</td>\n",
       "    </tr>\n",
       "    <tr>\n",
       "      <th>1</th>\n",
       "      <td>2018-10-01</td>\n",
       "      <td>90001.0</td>\n",
       "      <td>2014</td>\n",
       "      <td>Gasoline</td>\n",
       "      <td>OTHER/UNK</td>\n",
       "      <td>Yes</td>\n",
       "      <td>1.0</td>\n",
       "      <td>2018</td>\n",
       "      <td>10</td>\n",
       "      <td>1</td>\n",
       "    </tr>\n",
       "    <tr>\n",
       "      <th>2</th>\n",
       "      <td>2018-10-01</td>\n",
       "      <td>90000.0</td>\n",
       "      <td>&lt;2006</td>\n",
       "      <td>Gasoline</td>\n",
       "      <td>OTHER/UNK</td>\n",
       "      <td>Yes</td>\n",
       "      <td>13.0</td>\n",
       "      <td>2018</td>\n",
       "      <td>10</td>\n",
       "      <td>1</td>\n",
       "    </tr>\n",
       "    <tr>\n",
       "      <th>3</th>\n",
       "      <td>2018-10-01</td>\n",
       "      <td>90000.0</td>\n",
       "      <td>2017</td>\n",
       "      <td>Gasoline</td>\n",
       "      <td>OTHER/UNK</td>\n",
       "      <td>Yes</td>\n",
       "      <td>1.0</td>\n",
       "      <td>2018</td>\n",
       "      <td>10</td>\n",
       "      <td>1</td>\n",
       "    </tr>\n",
       "    <tr>\n",
       "      <th>4</th>\n",
       "      <td>2018-10-01</td>\n",
       "      <td>90000.0</td>\n",
       "      <td>&lt;2006</td>\n",
       "      <td>Diesel and Diesel Hybrid</td>\n",
       "      <td>OTHER/UNK</td>\n",
       "      <td>No</td>\n",
       "      <td>55.0</td>\n",
       "      <td>2018</td>\n",
       "      <td>10</td>\n",
       "      <td>1</td>\n",
       "    </tr>\n",
       "  </tbody>\n",
       "</table>\n",
       "</div>"
      ],
      "text/plain": [
       "        Date  Zip Code Model Year                      Fuel       Make  \\\n",
       "0 2018-10-01   90000.0       2006                  Gasoline  OTHER/UNK   \n",
       "1 2018-10-01   90001.0       2014                  Gasoline  OTHER/UNK   \n",
       "2 2018-10-01   90000.0      <2006                  Gasoline  OTHER/UNK   \n",
       "3 2018-10-01   90000.0       2017                  Gasoline  OTHER/UNK   \n",
       "4 2018-10-01   90000.0      <2006  Diesel and Diesel Hybrid  OTHER/UNK   \n",
       "\n",
       "  Light_Duty  Vehicles  year  month  day  \n",
       "0        Yes       1.0  2018     10    1  \n",
       "1        Yes       1.0  2018     10    1  \n",
       "2        Yes      13.0  2018     10    1  \n",
       "3        Yes       1.0  2018     10    1  \n",
       "4         No      55.0  2018     10    1  "
      ]
     },
     "execution_count": 81,
     "metadata": {},
     "output_type": "execute_result"
    }
   ],
   "source": [
    "df_transport.head()\n",
    "# df_transport.info()"
   ]
  },
  {
   "cell_type": "code",
   "execution_count": 82,
   "metadata": {},
   "outputs": [
    {
     "data": {
      "application/vnd.microsoft.datawrangler.viewer.v0+json": {
       "columns": [
        {
         "name": "Fuel",
         "rawType": "object",
         "type": "string"
        },
        {
         "name": "Date",
         "rawType": "datetime64[ns]",
         "type": "datetime"
        },
        {
         "name": "Zip Code",
         "rawType": "float64",
         "type": "float"
        },
        {
         "name": "Model Year",
         "rawType": "object",
         "type": "string"
        },
        {
         "name": "Make",
         "rawType": "object",
         "type": "string"
        },
        {
         "name": "Light_Duty",
         "rawType": "object",
         "type": "string"
        },
        {
         "name": "Vehicles",
         "rawType": "float64",
         "type": "float"
        },
        {
         "name": "year",
         "rawType": "int32",
         "type": "integer"
        },
        {
         "name": "month",
         "rawType": "int32",
         "type": "integer"
        },
        {
         "name": "day",
         "rawType": "int32",
         "type": "integer"
        }
       ],
       "conversionMethod": "pd.DataFrame",
       "ref": "aa000eba-894a-452f-b262-8903feb40909",
       "rows": [
        [
         "Battery Electric",
         "2018-10-01 00:00:00",
         "90000.0",
         "<2006",
         "OTHER/UNK",
         "No",
         "4.0",
         "2018",
         "10",
         "1"
        ],
        [
         "Diesel and Diesel Hybrid",
         "2018-10-01 00:00:00",
         "90000.0",
         "<2006",
         "OTHER/UNK",
         "No",
         "55.0",
         "2018",
         "10",
         "1"
        ],
        [
         "Flex-Fuel",
         "2018-10-14 00:00:00",
         "90001.0",
         "2007",
         "Type_A",
         "Yes",
         "78.0",
         "2018",
         "10",
         "14"
        ],
        [
         "Gasoline",
         "2018-10-01 00:00:00",
         "90000.0",
         "2006",
         "OTHER/UNK",
         "Yes",
         "1.0",
         "2018",
         "10",
         "1"
        ],
        [
         "Hybrid Gasoline",
         "2018-10-24 00:00:00",
         "90001.0",
         "2009",
         "OTHER/UNK",
         "Yes",
         "18.0",
         "2018",
         "10",
         "24"
        ],
        [
         "Natural Gas",
         "2018-10-25 00:00:00",
         "90001.0",
         "2009",
         "OTHER/UNK",
         "No",
         "2.0",
         "2018",
         "10",
         "25"
        ],
        [
         "Other",
         "2018-10-08 00:00:00",
         "90000.0",
         "<2006",
         "OTHER/UNK",
         "Yes",
         "6.0",
         "2018",
         "10",
         "8"
        ],
        [
         "Plug-in Hybrid",
         "2018-11-02 00:00:00",
         "90001.0",
         "2012",
         "OTHER/UNK",
         "Yes",
         "1.0",
         "2018",
         "11",
         "2"
        ]
       ],
       "shape": {
        "columns": 9,
        "rows": 8
       }
      },
      "text/html": [
       "<div>\n",
       "<style scoped>\n",
       "    .dataframe tbody tr th:only-of-type {\n",
       "        vertical-align: middle;\n",
       "    }\n",
       "\n",
       "    .dataframe tbody tr th {\n",
       "        vertical-align: top;\n",
       "    }\n",
       "\n",
       "    .dataframe thead th {\n",
       "        text-align: right;\n",
       "    }\n",
       "</style>\n",
       "<table border=\"1\" class=\"dataframe\">\n",
       "  <thead>\n",
       "    <tr style=\"text-align: right;\">\n",
       "      <th></th>\n",
       "      <th>Date</th>\n",
       "      <th>Zip Code</th>\n",
       "      <th>Model Year</th>\n",
       "      <th>Make</th>\n",
       "      <th>Light_Duty</th>\n",
       "      <th>Vehicles</th>\n",
       "      <th>year</th>\n",
       "      <th>month</th>\n",
       "      <th>day</th>\n",
       "    </tr>\n",
       "    <tr>\n",
       "      <th>Fuel</th>\n",
       "      <th></th>\n",
       "      <th></th>\n",
       "      <th></th>\n",
       "      <th></th>\n",
       "      <th></th>\n",
       "      <th></th>\n",
       "      <th></th>\n",
       "      <th></th>\n",
       "      <th></th>\n",
       "    </tr>\n",
       "  </thead>\n",
       "  <tbody>\n",
       "    <tr>\n",
       "      <th>Battery Electric</th>\n",
       "      <td>2018-10-01</td>\n",
       "      <td>90000.0</td>\n",
       "      <td>&lt;2006</td>\n",
       "      <td>OTHER/UNK</td>\n",
       "      <td>No</td>\n",
       "      <td>4.0</td>\n",
       "      <td>2018</td>\n",
       "      <td>10</td>\n",
       "      <td>1</td>\n",
       "    </tr>\n",
       "    <tr>\n",
       "      <th>Diesel and Diesel Hybrid</th>\n",
       "      <td>2018-10-01</td>\n",
       "      <td>90000.0</td>\n",
       "      <td>&lt;2006</td>\n",
       "      <td>OTHER/UNK</td>\n",
       "      <td>No</td>\n",
       "      <td>55.0</td>\n",
       "      <td>2018</td>\n",
       "      <td>10</td>\n",
       "      <td>1</td>\n",
       "    </tr>\n",
       "    <tr>\n",
       "      <th>Flex-Fuel</th>\n",
       "      <td>2018-10-14</td>\n",
       "      <td>90001.0</td>\n",
       "      <td>2007</td>\n",
       "      <td>Type_A</td>\n",
       "      <td>Yes</td>\n",
       "      <td>78.0</td>\n",
       "      <td>2018</td>\n",
       "      <td>10</td>\n",
       "      <td>14</td>\n",
       "    </tr>\n",
       "    <tr>\n",
       "      <th>Gasoline</th>\n",
       "      <td>2018-10-01</td>\n",
       "      <td>90000.0</td>\n",
       "      <td>2006</td>\n",
       "      <td>OTHER/UNK</td>\n",
       "      <td>Yes</td>\n",
       "      <td>1.0</td>\n",
       "      <td>2018</td>\n",
       "      <td>10</td>\n",
       "      <td>1</td>\n",
       "    </tr>\n",
       "    <tr>\n",
       "      <th>Hybrid Gasoline</th>\n",
       "      <td>2018-10-24</td>\n",
       "      <td>90001.0</td>\n",
       "      <td>2009</td>\n",
       "      <td>OTHER/UNK</td>\n",
       "      <td>Yes</td>\n",
       "      <td>18.0</td>\n",
       "      <td>2018</td>\n",
       "      <td>10</td>\n",
       "      <td>24</td>\n",
       "    </tr>\n",
       "    <tr>\n",
       "      <th>Natural Gas</th>\n",
       "      <td>2018-10-25</td>\n",
       "      <td>90001.0</td>\n",
       "      <td>2009</td>\n",
       "      <td>OTHER/UNK</td>\n",
       "      <td>No</td>\n",
       "      <td>2.0</td>\n",
       "      <td>2018</td>\n",
       "      <td>10</td>\n",
       "      <td>25</td>\n",
       "    </tr>\n",
       "    <tr>\n",
       "      <th>Other</th>\n",
       "      <td>2018-10-08</td>\n",
       "      <td>90000.0</td>\n",
       "      <td>&lt;2006</td>\n",
       "      <td>OTHER/UNK</td>\n",
       "      <td>Yes</td>\n",
       "      <td>6.0</td>\n",
       "      <td>2018</td>\n",
       "      <td>10</td>\n",
       "      <td>8</td>\n",
       "    </tr>\n",
       "    <tr>\n",
       "      <th>Plug-in Hybrid</th>\n",
       "      <td>2018-11-02</td>\n",
       "      <td>90001.0</td>\n",
       "      <td>2012</td>\n",
       "      <td>OTHER/UNK</td>\n",
       "      <td>Yes</td>\n",
       "      <td>1.0</td>\n",
       "      <td>2018</td>\n",
       "      <td>11</td>\n",
       "      <td>2</td>\n",
       "    </tr>\n",
       "  </tbody>\n",
       "</table>\n",
       "</div>"
      ],
      "text/plain": [
       "                               Date  Zip Code Model Year       Make  \\\n",
       "Fuel                                                                  \n",
       "Battery Electric         2018-10-01   90000.0      <2006  OTHER/UNK   \n",
       "Diesel and Diesel Hybrid 2018-10-01   90000.0      <2006  OTHER/UNK   \n",
       "Flex-Fuel                2018-10-14   90001.0       2007     Type_A   \n",
       "Gasoline                 2018-10-01   90000.0       2006  OTHER/UNK   \n",
       "Hybrid Gasoline          2018-10-24   90001.0       2009  OTHER/UNK   \n",
       "Natural Gas              2018-10-25   90001.0       2009  OTHER/UNK   \n",
       "Other                    2018-10-08   90000.0      <2006  OTHER/UNK   \n",
       "Plug-in Hybrid           2018-11-02   90001.0       2012  OTHER/UNK   \n",
       "\n",
       "                         Light_Duty  Vehicles  year  month  day  \n",
       "Fuel                                                             \n",
       "Battery Electric                 No       4.0  2018     10    1  \n",
       "Diesel and Diesel Hybrid         No      55.0  2018     10    1  \n",
       "Flex-Fuel                       Yes      78.0  2018     10   14  \n",
       "Gasoline                        Yes       1.0  2018     10    1  \n",
       "Hybrid Gasoline                 Yes      18.0  2018     10   24  \n",
       "Natural Gas                      No       2.0  2018     10   25  \n",
       "Other                           Yes       6.0  2018     10    8  \n",
       "Plug-in Hybrid                  Yes       1.0  2018     11    2  "
      ]
     },
     "execution_count": 82,
     "metadata": {},
     "output_type": "execute_result"
    }
   ],
   "source": [
    "grouped_data = df_transport.groupby(['Zip Code','Model Year','Fuel','Make','Light_Duty','Vehicles'])\n",
    "df_transport.groupby(['Fuel']).first()"
   ]
  },
  {
   "cell_type": "markdown",
   "metadata": {},
   "source": [
    "### Visualise Data"
   ]
  },
  {
   "cell_type": "code",
   "execution_count": 83,
   "metadata": {},
   "outputs": [
    {
     "data": {
      "text/plain": [
       "Text(0.5, 1.0, 'Vehice by month')"
      ]
     },
     "execution_count": 83,
     "metadata": {},
     "output_type": "execute_result"
    },
    {
     "data": {
      "text/plain": [
       "<Figure size 1000x600 with 0 Axes>"
      ]
     },
     "metadata": {},
     "output_type": "display_data"
    },
    {
     "data": {
      "image/png": "[encoded data removed]",
      "text/plain": [
       "<Figure size 600x600 with 3 Axes>"
      ]
     },
     "metadata": {},
     "output_type": "display_data"
    }
   ],
   "source": [
    "plt.figure(figsize=[10,6])\n",
    "sns.jointplot(x=\"month\",y=\"Vehicles\",data = df_transport)\n",
    "plt.title(\"Vehice by month\")"
   ]
  },
  {
   "cell_type": "markdown",
   "metadata": {},
   "source": [
    "### Rename"
   ]
  },
  {
   "cell_type": "code",
   "execution_count": 84,
   "metadata": {},
   "outputs": [],
   "source": [
    "df_transport = df_transport.rename(columns= {\"Date\":\"date\",\"Zip Code\":\"zipcode\",\"Model Year\":\"modelyear\",\"Fuel\":\"fuel\",\"Make\":\"make\",\"Light_Duty\":\"lightduty\",\"Vehicles\":\"vehicle\"})"
   ]
  },
  {
   "cell_type": "code",
   "execution_count": 85,
   "metadata": {},
   "outputs": [
    {
     "data": {
      "application/vnd.microsoft.datawrangler.viewer.v0+json": {
       "columns": [
        {
         "name": "index",
         "rawType": "int64",
         "type": "integer"
        },
        {
         "name": "date",
         "rawType": "datetime64[ns]",
         "type": "datetime"
        },
        {
         "name": "zipcode",
         "rawType": "float64",
         "type": "float"
        },
        {
         "name": "modelyear",
         "rawType": "object",
         "type": "string"
        },
        {
         "name": "fuel",
         "rawType": "object",
         "type": "string"
        },
        {
         "name": "make",
         "rawType": "object",
         "type": "string"
        },
        {
         "name": "lightduty",
         "rawType": "object",
         "type": "string"
        },
        {
         "name": "vehicle",
         "rawType": "float64",
         "type": "float"
        },
        {
         "name": "year",
         "rawType": "int32",
         "type": "integer"
        },
        {
         "name": "month",
         "rawType": "int32",
         "type": "integer"
        },
        {
         "name": "day",
         "rawType": "int32",
         "type": "integer"
        }
       ],
       "conversionMethod": "pd.DataFrame",
       "ref": "9a323f21-edd0-4c4f-8261-cf882c2c8edd",
       "rows": [
        [
         "0",
         "2018-10-01 00:00:00",
         "90000.0",
         "2006",
         "Gasoline",
         "OTHER/UNK",
         "Yes",
         "1.0",
         "2018",
         "10",
         "1"
        ],
        [
         "1",
         "2018-10-01 00:00:00",
         "90001.0",
         "2014",
         "Gasoline",
         "OTHER/UNK",
         "Yes",
         "1.0",
         "2018",
         "10",
         "1"
        ],
        [
         "2",
         "2018-10-01 00:00:00",
         "90000.0",
         "<2006",
         "Gasoline",
         "OTHER/UNK",
         "Yes",
         "13.0",
         "2018",
         "10",
         "1"
        ],
        [
         "3",
         "2018-10-01 00:00:00",
         "90000.0",
         "2017",
         "Gasoline",
         "OTHER/UNK",
         "Yes",
         "1.0",
         "2018",
         "10",
         "1"
        ],
        [
         "4",
         "2018-10-01 00:00:00",
         "90000.0",
         "<2006",
         "Diesel and Diesel Hybrid",
         "OTHER/UNK",
         "No",
         "55.0",
         "2018",
         "10",
         "1"
        ]
       ],
       "shape": {
        "columns": 10,
        "rows": 5
       }
      },
      "text/html": [
       "<div>\n",
       "<style scoped>\n",
       "    .dataframe tbody tr th:only-of-type {\n",
       "        vertical-align: middle;\n",
       "    }\n",
       "\n",
       "    .dataframe tbody tr th {\n",
       "        vertical-align: top;\n",
       "    }\n",
       "\n",
       "    .dataframe thead th {\n",
       "        text-align: right;\n",
       "    }\n",
       "</style>\n",
       "<table border=\"1\" class=\"dataframe\">\n",
       "  <thead>\n",
       "    <tr style=\"text-align: right;\">\n",
       "      <th></th>\n",
       "      <th>date</th>\n",
       "      <th>zipcode</th>\n",
       "      <th>modelyear</th>\n",
       "      <th>fuel</th>\n",
       "      <th>make</th>\n",
       "      <th>lightduty</th>\n",
       "      <th>vehicle</th>\n",
       "      <th>year</th>\n",
       "      <th>month</th>\n",
       "      <th>day</th>\n",
       "    </tr>\n",
       "  </thead>\n",
       "  <tbody>\n",
       "    <tr>\n",
       "      <th>0</th>\n",
       "      <td>2018-10-01</td>\n",
       "      <td>90000.0</td>\n",
       "      <td>2006</td>\n",
       "      <td>Gasoline</td>\n",
       "      <td>OTHER/UNK</td>\n",
       "      <td>Yes</td>\n",
       "      <td>1.0</td>\n",
       "      <td>2018</td>\n",
       "      <td>10</td>\n",
       "      <td>1</td>\n",
       "    </tr>\n",
       "    <tr>\n",
       "      <th>1</th>\n",
       "      <td>2018-10-01</td>\n",
       "      <td>90001.0</td>\n",
       "      <td>2014</td>\n",
       "      <td>Gasoline</td>\n",
       "      <td>OTHER/UNK</td>\n",
       "      <td>Yes</td>\n",
       "      <td>1.0</td>\n",
       "      <td>2018</td>\n",
       "      <td>10</td>\n",
       "      <td>1</td>\n",
       "    </tr>\n",
       "    <tr>\n",
       "      <th>2</th>\n",
       "      <td>2018-10-01</td>\n",
       "      <td>90000.0</td>\n",
       "      <td>&lt;2006</td>\n",
       "      <td>Gasoline</td>\n",
       "      <td>OTHER/UNK</td>\n",
       "      <td>Yes</td>\n",
       "      <td>13.0</td>\n",
       "      <td>2018</td>\n",
       "      <td>10</td>\n",
       "      <td>1</td>\n",
       "    </tr>\n",
       "    <tr>\n",
       "      <th>3</th>\n",
       "      <td>2018-10-01</td>\n",
       "      <td>90000.0</td>\n",
       "      <td>2017</td>\n",
       "      <td>Gasoline</td>\n",
       "      <td>OTHER/UNK</td>\n",
       "      <td>Yes</td>\n",
       "      <td>1.0</td>\n",
       "      <td>2018</td>\n",
       "      <td>10</td>\n",
       "      <td>1</td>\n",
       "    </tr>\n",
       "    <tr>\n",
       "      <th>4</th>\n",
       "      <td>2018-10-01</td>\n",
       "      <td>90000.0</td>\n",
       "      <td>&lt;2006</td>\n",
       "      <td>Diesel and Diesel Hybrid</td>\n",
       "      <td>OTHER/UNK</td>\n",
       "      <td>No</td>\n",
       "      <td>55.0</td>\n",
       "      <td>2018</td>\n",
       "      <td>10</td>\n",
       "      <td>1</td>\n",
       "    </tr>\n",
       "  </tbody>\n",
       "</table>\n",
       "</div>"
      ],
      "text/plain": [
       "        date  zipcode modelyear                      fuel       make  \\\n",
       "0 2018-10-01  90000.0      2006                  Gasoline  OTHER/UNK   \n",
       "1 2018-10-01  90001.0      2014                  Gasoline  OTHER/UNK   \n",
       "2 2018-10-01  90000.0     <2006                  Gasoline  OTHER/UNK   \n",
       "3 2018-10-01  90000.0      2017                  Gasoline  OTHER/UNK   \n",
       "4 2018-10-01  90000.0     <2006  Diesel and Diesel Hybrid  OTHER/UNK   \n",
       "\n",
       "  lightduty  vehicle  year  month  day  \n",
       "0       Yes      1.0  2018     10    1  \n",
       "1       Yes      1.0  2018     10    1  \n",
       "2       Yes     13.0  2018     10    1  \n",
       "3       Yes      1.0  2018     10    1  \n",
       "4        No     55.0  2018     10    1  "
      ]
     },
     "execution_count": 85,
     "metadata": {},
     "output_type": "execute_result"
    }
   ],
   "source": [
    "df_transport.head()"
   ]
  },
  {
   "cell_type": "markdown",
   "metadata": {},
   "source": [
    "### Remove Unwanted Values"
   ]
  },
  {
   "cell_type": "code",
   "execution_count": 86,
   "metadata": {},
   "outputs": [],
   "source": [
    "df = df_transport.loc[df_transport.modelyear != '<2006'].copy()"
   ]
  },
  {
   "cell_type": "code",
   "execution_count": 87,
   "metadata": {},
   "outputs": [
    {
     "data": {
      "application/vnd.microsoft.datawrangler.viewer.v0+json": {
       "columns": [
        {
         "name": "index",
         "rawType": "int64",
         "type": "integer"
        },
        {
         "name": "date",
         "rawType": "datetime64[ns]",
         "type": "datetime"
        },
        {
         "name": "zipcode",
         "rawType": "float64",
         "type": "float"
        },
        {
         "name": "modelyear",
         "rawType": "object",
         "type": "string"
        },
        {
         "name": "fuel",
         "rawType": "object",
         "type": "string"
        },
        {
         "name": "make",
         "rawType": "object",
         "type": "string"
        },
        {
         "name": "lightduty",
         "rawType": "object",
         "type": "string"
        },
        {
         "name": "vehicle",
         "rawType": "float64",
         "type": "float"
        },
        {
         "name": "year",
         "rawType": "int32",
         "type": "integer"
        },
        {
         "name": "month",
         "rawType": "int32",
         "type": "integer"
        },
        {
         "name": "day",
         "rawType": "int32",
         "type": "integer"
        }
       ],
       "conversionMethod": "pd.DataFrame",
       "ref": "1c48b95d-7be4-4c97-b3c4-83e9700f1e4a",
       "rows": [
        [
         "0",
         "2018-10-01 00:00:00",
         "90000.0",
         "2006",
         "Gasoline",
         "OTHER/UNK",
         "Yes",
         "1.0",
         "2018",
         "10",
         "1"
        ],
        [
         "1",
         "2018-10-01 00:00:00",
         "90001.0",
         "2014",
         "Gasoline",
         "OTHER/UNK",
         "Yes",
         "1.0",
         "2018",
         "10",
         "1"
        ],
        [
         "3",
         "2018-10-01 00:00:00",
         "90000.0",
         "2017",
         "Gasoline",
         "OTHER/UNK",
         "Yes",
         "1.0",
         "2018",
         "10",
         "1"
        ],
        [
         "16",
         "2018-10-09 00:00:00",
         "90001.0",
         "2006",
         "Diesel and Diesel Hybrid",
         "Type_C",
         "No",
         "16.0",
         "2018",
         "10",
         "9"
        ],
        [
         "17",
         "2018-10-10 00:00:00",
         "90001.0",
         "2006",
         "Diesel and Diesel Hybrid",
         "OTHER/UNK",
         "No",
         "23.0",
         "2018",
         "10",
         "10"
        ]
       ],
       "shape": {
        "columns": 10,
        "rows": 5
       }
      },
      "text/html": [
       "<div>\n",
       "<style scoped>\n",
       "    .dataframe tbody tr th:only-of-type {\n",
       "        vertical-align: middle;\n",
       "    }\n",
       "\n",
       "    .dataframe tbody tr th {\n",
       "        vertical-align: top;\n",
       "    }\n",
       "\n",
       "    .dataframe thead th {\n",
       "        text-align: right;\n",
       "    }\n",
       "</style>\n",
       "<table border=\"1\" class=\"dataframe\">\n",
       "  <thead>\n",
       "    <tr style=\"text-align: right;\">\n",
       "      <th></th>\n",
       "      <th>date</th>\n",
       "      <th>zipcode</th>\n",
       "      <th>modelyear</th>\n",
       "      <th>fuel</th>\n",
       "      <th>make</th>\n",
       "      <th>lightduty</th>\n",
       "      <th>vehicle</th>\n",
       "      <th>year</th>\n",
       "      <th>month</th>\n",
       "      <th>day</th>\n",
       "    </tr>\n",
       "  </thead>\n",
       "  <tbody>\n",
       "    <tr>\n",
       "      <th>0</th>\n",
       "      <td>2018-10-01</td>\n",
       "      <td>90000.0</td>\n",
       "      <td>2006</td>\n",
       "      <td>Gasoline</td>\n",
       "      <td>OTHER/UNK</td>\n",
       "      <td>Yes</td>\n",
       "      <td>1.0</td>\n",
       "      <td>2018</td>\n",
       "      <td>10</td>\n",
       "      <td>1</td>\n",
       "    </tr>\n",
       "    <tr>\n",
       "      <th>1</th>\n",
       "      <td>2018-10-01</td>\n",
       "      <td>90001.0</td>\n",
       "      <td>2014</td>\n",
       "      <td>Gasoline</td>\n",
       "      <td>OTHER/UNK</td>\n",
       "      <td>Yes</td>\n",
       "      <td>1.0</td>\n",
       "      <td>2018</td>\n",
       "      <td>10</td>\n",
       "      <td>1</td>\n",
       "    </tr>\n",
       "    <tr>\n",
       "      <th>3</th>\n",
       "      <td>2018-10-01</td>\n",
       "      <td>90000.0</td>\n",
       "      <td>2017</td>\n",
       "      <td>Gasoline</td>\n",
       "      <td>OTHER/UNK</td>\n",
       "      <td>Yes</td>\n",
       "      <td>1.0</td>\n",
       "      <td>2018</td>\n",
       "      <td>10</td>\n",
       "      <td>1</td>\n",
       "    </tr>\n",
       "    <tr>\n",
       "      <th>16</th>\n",
       "      <td>2018-10-09</td>\n",
       "      <td>90001.0</td>\n",
       "      <td>2006</td>\n",
       "      <td>Diesel and Diesel Hybrid</td>\n",
       "      <td>Type_C</td>\n",
       "      <td>No</td>\n",
       "      <td>16.0</td>\n",
       "      <td>2018</td>\n",
       "      <td>10</td>\n",
       "      <td>9</td>\n",
       "    </tr>\n",
       "    <tr>\n",
       "      <th>17</th>\n",
       "      <td>2018-10-10</td>\n",
       "      <td>90001.0</td>\n",
       "      <td>2006</td>\n",
       "      <td>Diesel and Diesel Hybrid</td>\n",
       "      <td>OTHER/UNK</td>\n",
       "      <td>No</td>\n",
       "      <td>23.0</td>\n",
       "      <td>2018</td>\n",
       "      <td>10</td>\n",
       "      <td>10</td>\n",
       "    </tr>\n",
       "  </tbody>\n",
       "</table>\n",
       "</div>"
      ],
      "text/plain": [
       "         date  zipcode modelyear                      fuel       make  \\\n",
       "0  2018-10-01  90000.0      2006                  Gasoline  OTHER/UNK   \n",
       "1  2018-10-01  90001.0      2014                  Gasoline  OTHER/UNK   \n",
       "3  2018-10-01  90000.0      2017                  Gasoline  OTHER/UNK   \n",
       "16 2018-10-09  90001.0      2006  Diesel and Diesel Hybrid     Type_C   \n",
       "17 2018-10-10  90001.0      2006  Diesel and Diesel Hybrid  OTHER/UNK   \n",
       "\n",
       "   lightduty  vehicle  year  month  day  \n",
       "0        Yes      1.0  2018     10    1  \n",
       "1        Yes      1.0  2018     10    1  \n",
       "3        Yes      1.0  2018     10    1  \n",
       "16        No     16.0  2018     10    9  \n",
       "17        No     23.0  2018     10   10  "
      ]
     },
     "execution_count": 87,
     "metadata": {},
     "output_type": "execute_result"
    }
   ],
   "source": [
    "df.head()"
   ]
  },
  {
   "cell_type": "code",
   "execution_count": 88,
   "metadata": {},
   "outputs": [
    {
     "data": {
      "text/plain": [
       "modelyear\n",
       "2007    53\n",
       "2008    45\n",
       "2006    36\n",
       "2010    34\n",
       "2014    31\n",
       "2015    30\n",
       "2017    29\n",
       "2016    29\n",
       "2013    27\n",
       "2009    25\n",
       "2012    25\n",
       "2011    24\n",
       "2018    23\n",
       "2019     5\n",
       "Name: count, dtype: int64"
      ]
     },
     "execution_count": 88,
     "metadata": {},
     "output_type": "execute_result"
    }
   ],
   "source": [
    "df['modelyear'].value_counts()"
   ]
  },
  {
   "cell_type": "markdown",
   "metadata": {},
   "source": [
    "### OneHot Encoding"
   ]
  },
  {
   "cell_type": "code",
   "execution_count": 89,
   "metadata": {},
   "outputs": [
    {
     "data": {
      "text/plain": [
       "lightduty\n",
       "Yes    374\n",
       "No      42\n",
       "Name: count, dtype: int64"
      ]
     },
     "execution_count": 89,
     "metadata": {},
     "output_type": "execute_result"
    }
   ],
   "source": [
    "df['lightduty'].value_counts()"
   ]
  },
  {
   "cell_type": "code",
   "execution_count": 90,
   "metadata": {},
   "outputs": [
    {
     "data": {
      "text/plain": [
       "lightduty\n",
       "1    374\n",
       "0     42\n",
       "Name: count, dtype: int64"
      ]
     },
     "execution_count": 90,
     "metadata": {},
     "output_type": "execute_result"
    }
   ],
   "source": [
    "df.loc[:,'lightduty'] = df.loc[:,'lightduty'].apply(lambda x: 0 if x == 'No' else 1)\n",
    "df['lightduty'].value_counts()"
   ]
  },
  {
   "cell_type": "code",
   "execution_count": 91,
   "metadata": {},
   "outputs": [
    {
     "data": {
      "application/vnd.microsoft.datawrangler.viewer.v0+json": {
       "columns": [
        {
         "name": "index",
         "rawType": "int64",
         "type": "integer"
        },
        {
         "name": "zipcode",
         "rawType": "int32",
         "type": "integer"
        },
        {
         "name": "modelyear_2007",
         "rawType": "int32",
         "type": "integer"
        },
        {
         "name": "modelyear_2008",
         "rawType": "int32",
         "type": "integer"
        },
        {
         "name": "modelyear_2009",
         "rawType": "int32",
         "type": "integer"
        },
        {
         "name": "modelyear_2010",
         "rawType": "int32",
         "type": "integer"
        },
        {
         "name": "modelyear_2011",
         "rawType": "int32",
         "type": "integer"
        },
        {
         "name": "modelyear_2012",
         "rawType": "int32",
         "type": "integer"
        },
        {
         "name": "modelyear_2013",
         "rawType": "int32",
         "type": "integer"
        },
        {
         "name": "modelyear_2014",
         "rawType": "int32",
         "type": "integer"
        },
        {
         "name": "modelyear_2015",
         "rawType": "int32",
         "type": "integer"
        },
        {
         "name": "modelyear_2016",
         "rawType": "int32",
         "type": "integer"
        },
        {
         "name": "modelyear_2017",
         "rawType": "int32",
         "type": "integer"
        },
        {
         "name": "modelyear_2018",
         "rawType": "int32",
         "type": "integer"
        },
        {
         "name": "modelyear_2019",
         "rawType": "int32",
         "type": "integer"
        },
        {
         "name": "fuel_Diesel and Diesel Hybrid",
         "rawType": "int32",
         "type": "integer"
        },
        {
         "name": "fuel_Flex-Fuel",
         "rawType": "int32",
         "type": "integer"
        },
        {
         "name": "fuel_Gasoline",
         "rawType": "int32",
         "type": "integer"
        },
        {
         "name": "fuel_Hybrid Gasoline",
         "rawType": "int32",
         "type": "integer"
        },
        {
         "name": "fuel_Natural Gas",
         "rawType": "int32",
         "type": "integer"
        },
        {
         "name": "fuel_Plug-in Hybrid",
         "rawType": "int32",
         "type": "integer"
        },
        {
         "name": "make_Type_A",
         "rawType": "int32",
         "type": "integer"
        },
        {
         "name": "make_Type_B",
         "rawType": "int32",
         "type": "integer"
        },
        {
         "name": "make_Type_C",
         "rawType": "int32",
         "type": "integer"
        },
        {
         "name": "make_Type_D",
         "rawType": "int32",
         "type": "integer"
        },
        {
         "name": "make_Type_F",
         "rawType": "int32",
         "type": "integer"
        },
        {
         "name": "make_Type_FF",
         "rawType": "int32",
         "type": "integer"
        },
        {
         "name": "make_Type_G",
         "rawType": "int32",
         "type": "integer"
        },
        {
         "name": "make_Type_GG",
         "rawType": "int32",
         "type": "integer"
        },
        {
         "name": "make_Type_H",
         "rawType": "int32",
         "type": "integer"
        },
        {
         "name": "make_Type_I",
         "rawType": "int32",
         "type": "integer"
        },
        {
         "name": "make_Type_II",
         "rawType": "int32",
         "type": "integer"
        },
        {
         "name": "make_Type_J",
         "rawType": "int32",
         "type": "integer"
        },
        {
         "name": "make_Type_K",
         "rawType": "int32",
         "type": "integer"
        },
        {
         "name": "make_Type_L",
         "rawType": "int32",
         "type": "integer"
        },
        {
         "name": "make_Type_M",
         "rawType": "int32",
         "type": "integer"
        },
        {
         "name": "make_Type_MM",
         "rawType": "int32",
         "type": "integer"
        },
        {
         "name": "make_Type_N",
         "rawType": "int32",
         "type": "integer"
        },
        {
         "name": "make_Type_NN",
         "rawType": "int32",
         "type": "integer"
        },
        {
         "name": "make_Type_O",
         "rawType": "int32",
         "type": "integer"
        },
        {
         "name": "make_Type_P",
         "rawType": "int32",
         "type": "integer"
        },
        {
         "name": "make_Type_Q",
         "rawType": "int32",
         "type": "integer"
        },
        {
         "name": "make_Type_R",
         "rawType": "int32",
         "type": "integer"
        },
        {
         "name": "make_Type_S",
         "rawType": "int32",
         "type": "integer"
        },
        {
         "name": "make_Type_T",
         "rawType": "int32",
         "type": "integer"
        },
        {
         "name": "make_Type_U",
         "rawType": "int32",
         "type": "integer"
        },
        {
         "name": "make_Type_V",
         "rawType": "int32",
         "type": "integer"
        },
        {
         "name": "make_Type_W",
         "rawType": "int32",
         "type": "integer"
        },
        {
         "name": "make_Type_X",
         "rawType": "int32",
         "type": "integer"
        },
        {
         "name": "make_Type_Y",
         "rawType": "int32",
         "type": "integer"
        }
       ],
       "conversionMethod": "pd.DataFrame",
       "ref": "a3ff1c49-943f-44b5-be0a-927d3baca849",
       "rows": [
        [
         "0",
         "90000",
         "0",
         "0",
         "0",
         "0",
         "0",
         "0",
         "0",
         "0",
         "0",
         "0",
         "0",
         "0",
         "0",
         "0",
         "0",
         "1",
         "0",
         "0",
         "0",
         "0",
         "0",
         "0",
         "0",
         "0",
         "0",
         "0",
         "0",
         "0",
         "0",
         "0",
         "0",
         "0",
         "0",
         "0",
         "0",
         "0",
         "0",
         "0",
         "0",
         "0",
         "0",
         "0",
         "0",
         "0",
         "0",
         "0",
         "0",
         "0"
        ],
        [
         "1",
         "90001",
         "0",
         "0",
         "0",
         "0",
         "0",
         "0",
         "0",
         "1",
         "0",
         "0",
         "0",
         "0",
         "0",
         "0",
         "0",
         "1",
         "0",
         "0",
         "0",
         "0",
         "0",
         "0",
         "0",
         "0",
         "0",
         "0",
         "0",
         "0",
         "0",
         "0",
         "0",
         "0",
         "0",
         "0",
         "0",
         "0",
         "0",
         "0",
         "0",
         "0",
         "0",
         "0",
         "0",
         "0",
         "0",
         "0",
         "0",
         "0"
        ],
        [
         "3",
         "90000",
         "0",
         "0",
         "0",
         "0",
         "0",
         "0",
         "0",
         "0",
         "0",
         "0",
         "1",
         "0",
         "0",
         "0",
         "0",
         "1",
         "0",
         "0",
         "0",
         "0",
         "0",
         "0",
         "0",
         "0",
         "0",
         "0",
         "0",
         "0",
         "0",
         "0",
         "0",
         "0",
         "0",
         "0",
         "0",
         "0",
         "0",
         "0",
         "0",
         "0",
         "0",
         "0",
         "0",
         "0",
         "0",
         "0",
         "0",
         "0"
        ],
        [
         "16",
         "90001",
         "0",
         "0",
         "0",
         "0",
         "0",
         "0",
         "0",
         "0",
         "0",
         "0",
         "0",
         "0",
         "0",
         "1",
         "0",
         "0",
         "0",
         "0",
         "0",
         "0",
         "0",
         "1",
         "0",
         "0",
         "0",
         "0",
         "0",
         "0",
         "0",
         "0",
         "0",
         "0",
         "0",
         "0",
         "0",
         "0",
         "0",
         "0",
         "0",
         "0",
         "0",
         "0",
         "0",
         "0",
         "0",
         "0",
         "0",
         "0"
        ],
        [
         "17",
         "90001",
         "0",
         "0",
         "0",
         "0",
         "0",
         "0",
         "0",
         "0",
         "0",
         "0",
         "0",
         "0",
         "0",
         "1",
         "0",
         "0",
         "0",
         "0",
         "0",
         "0",
         "0",
         "0",
         "0",
         "0",
         "0",
         "0",
         "0",
         "0",
         "0",
         "0",
         "0",
         "0",
         "0",
         "0",
         "0",
         "0",
         "0",
         "0",
         "0",
         "0",
         "0",
         "0",
         "0",
         "0",
         "0",
         "0",
         "0",
         "0"
        ]
       ],
       "shape": {
        "columns": 49,
        "rows": 5
       }
      },
      "text/html": [
       "<div>\n",
       "<style scoped>\n",
       "    .dataframe tbody tr th:only-of-type {\n",
       "        vertical-align: middle;\n",
       "    }\n",
       "\n",
       "    .dataframe tbody tr th {\n",
       "        vertical-align: top;\n",
       "    }\n",
       "\n",
       "    .dataframe thead th {\n",
       "        text-align: right;\n",
       "    }\n",
       "</style>\n",
       "<table border=\"1\" class=\"dataframe\">\n",
       "  <thead>\n",
       "    <tr style=\"text-align: right;\">\n",
       "      <th></th>\n",
       "      <th>zipcode</th>\n",
       "      <th>modelyear_2007</th>\n",
       "      <th>modelyear_2008</th>\n",
       "      <th>modelyear_2009</th>\n",
       "      <th>modelyear_2010</th>\n",
       "      <th>modelyear_2011</th>\n",
       "      <th>modelyear_2012</th>\n",
       "      <th>modelyear_2013</th>\n",
       "      <th>modelyear_2014</th>\n",
       "      <th>modelyear_2015</th>\n",
       "      <th>...</th>\n",
       "      <th>make_Type_P</th>\n",
       "      <th>make_Type_Q</th>\n",
       "      <th>make_Type_R</th>\n",
       "      <th>make_Type_S</th>\n",
       "      <th>make_Type_T</th>\n",
       "      <th>make_Type_U</th>\n",
       "      <th>make_Type_V</th>\n",
       "      <th>make_Type_W</th>\n",
       "      <th>make_Type_X</th>\n",
       "      <th>make_Type_Y</th>\n",
       "    </tr>\n",
       "  </thead>\n",
       "  <tbody>\n",
       "    <tr>\n",
       "      <th>0</th>\n",
       "      <td>90000</td>\n",
       "      <td>0</td>\n",
       "      <td>0</td>\n",
       "      <td>0</td>\n",
       "      <td>0</td>\n",
       "      <td>0</td>\n",
       "      <td>0</td>\n",
       "      <td>0</td>\n",
       "      <td>0</td>\n",
       "      <td>0</td>\n",
       "      <td>...</td>\n",
       "      <td>0</td>\n",
       "      <td>0</td>\n",
       "      <td>0</td>\n",
       "      <td>0</td>\n",
       "      <td>0</td>\n",
       "      <td>0</td>\n",
       "      <td>0</td>\n",
       "      <td>0</td>\n",
       "      <td>0</td>\n",
       "      <td>0</td>\n",
       "    </tr>\n",
       "    <tr>\n",
       "      <th>1</th>\n",
       "      <td>90001</td>\n",
       "      <td>0</td>\n",
       "      <td>0</td>\n",
       "      <td>0</td>\n",
       "      <td>0</td>\n",
       "      <td>0</td>\n",
       "      <td>0</td>\n",
       "      <td>0</td>\n",
       "      <td>1</td>\n",
       "      <td>0</td>\n",
       "      <td>...</td>\n",
       "      <td>0</td>\n",
       "      <td>0</td>\n",
       "      <td>0</td>\n",
       "      <td>0</td>\n",
       "      <td>0</td>\n",
       "      <td>0</td>\n",
       "      <td>0</td>\n",
       "      <td>0</td>\n",
       "      <td>0</td>\n",
       "      <td>0</td>\n",
       "    </tr>\n",
       "    <tr>\n",
       "      <th>3</th>\n",
       "      <td>90000</td>\n",
       "      <td>0</td>\n",
       "      <td>0</td>\n",
       "      <td>0</td>\n",
       "      <td>0</td>\n",
       "      <td>0</td>\n",
       "      <td>0</td>\n",
       "      <td>0</td>\n",
       "      <td>0</td>\n",
       "      <td>0</td>\n",
       "      <td>...</td>\n",
       "      <td>0</td>\n",
       "      <td>0</td>\n",
       "      <td>0</td>\n",
       "      <td>0</td>\n",
       "      <td>0</td>\n",
       "      <td>0</td>\n",
       "      <td>0</td>\n",
       "      <td>0</td>\n",
       "      <td>0</td>\n",
       "      <td>0</td>\n",
       "    </tr>\n",
       "    <tr>\n",
       "      <th>16</th>\n",
       "      <td>90001</td>\n",
       "      <td>0</td>\n",
       "      <td>0</td>\n",
       "      <td>0</td>\n",
       "      <td>0</td>\n",
       "      <td>0</td>\n",
       "      <td>0</td>\n",
       "      <td>0</td>\n",
       "      <td>0</td>\n",
       "      <td>0</td>\n",
       "      <td>...</td>\n",
       "      <td>0</td>\n",
       "      <td>0</td>\n",
       "      <td>0</td>\n",
       "      <td>0</td>\n",
       "      <td>0</td>\n",
       "      <td>0</td>\n",
       "      <td>0</td>\n",
       "      <td>0</td>\n",
       "      <td>0</td>\n",
       "      <td>0</td>\n",
       "    </tr>\n",
       "    <tr>\n",
       "      <th>17</th>\n",
       "      <td>90001</td>\n",
       "      <td>0</td>\n",
       "      <td>0</td>\n",
       "      <td>0</td>\n",
       "      <td>0</td>\n",
       "      <td>0</td>\n",
       "      <td>0</td>\n",
       "      <td>0</td>\n",
       "      <td>0</td>\n",
       "      <td>0</td>\n",
       "      <td>...</td>\n",
       "      <td>0</td>\n",
       "      <td>0</td>\n",
       "      <td>0</td>\n",
       "      <td>0</td>\n",
       "      <td>0</td>\n",
       "      <td>0</td>\n",
       "      <td>0</td>\n",
       "      <td>0</td>\n",
       "      <td>0</td>\n",
       "      <td>0</td>\n",
       "    </tr>\n",
       "  </tbody>\n",
       "</table>\n",
       "<p>5 rows × 49 columns</p>\n",
       "</div>"
      ],
      "text/plain": [
       "    zipcode  modelyear_2007  modelyear_2008  modelyear_2009  modelyear_2010  \\\n",
       "0     90000               0               0               0               0   \n",
       "1     90001               0               0               0               0   \n",
       "3     90000               0               0               0               0   \n",
       "16    90001               0               0               0               0   \n",
       "17    90001               0               0               0               0   \n",
       "\n",
       "    modelyear_2011  modelyear_2012  modelyear_2013  modelyear_2014  \\\n",
       "0                0               0               0               0   \n",
       "1                0               0               0               1   \n",
       "3                0               0               0               0   \n",
       "16               0               0               0               0   \n",
       "17               0               0               0               0   \n",
       "\n",
       "    modelyear_2015  ...  make_Type_P  make_Type_Q  make_Type_R  make_Type_S  \\\n",
       "0                0  ...            0            0            0            0   \n",
       "1                0  ...            0            0            0            0   \n",
       "3                0  ...            0            0            0            0   \n",
       "16               0  ...            0            0            0            0   \n",
       "17               0  ...            0            0            0            0   \n",
       "\n",
       "    make_Type_T  make_Type_U  make_Type_V  make_Type_W  make_Type_X  \\\n",
       "0             0            0            0            0            0   \n",
       "1             0            0            0            0            0   \n",
       "3             0            0            0            0            0   \n",
       "16            0            0            0            0            0   \n",
       "17            0            0            0            0            0   \n",
       "\n",
       "    make_Type_Y  \n",
       "0             0  \n",
       "1             0  \n",
       "3             0  \n",
       "16            0  \n",
       "17            0  \n",
       "\n",
       "[5 rows x 49 columns]"
      ]
     },
     "execution_count": 91,
     "metadata": {},
     "output_type": "execute_result"
    }
   ],
   "source": [
    "data_dummy = pd.get_dummies(df[['zipcode','modelyear','fuel','make']],drop_first=True).astype(int)\n",
    "data_dummy.head()\n"
   ]
  },
  {
   "cell_type": "code",
   "execution_count": 92,
   "metadata": {},
   "outputs": [],
   "source": [
    "# data_dummy = data_dummy.astype(int)\n"
   ]
  },
  {
   "cell_type": "code",
   "execution_count": 93,
   "metadata": {},
   "outputs": [
    {
     "data": {
      "application/vnd.microsoft.datawrangler.viewer.v0+json": {
       "columns": [
        {
         "name": "index",
         "rawType": "int64",
         "type": "integer"
        },
        {
         "name": "date",
         "rawType": "datetime64[ns]",
         "type": "datetime"
        },
        {
         "name": "zipcode",
         "rawType": "float64",
         "type": "float"
        },
        {
         "name": "modelyear",
         "rawType": "object",
         "type": "string"
        },
        {
         "name": "fuel",
         "rawType": "object",
         "type": "string"
        },
        {
         "name": "make",
         "rawType": "object",
         "type": "string"
        },
        {
         "name": "lightduty",
         "rawType": "object",
         "type": "unknown"
        },
        {
         "name": "vehicle",
         "rawType": "float64",
         "type": "float"
        },
        {
         "name": "year",
         "rawType": "int32",
         "type": "integer"
        },
        {
         "name": "month",
         "rawType": "int32",
         "type": "integer"
        },
        {
         "name": "day",
         "rawType": "int32",
         "type": "integer"
        },
        {
         "name": "zipcode",
         "rawType": "int32",
         "type": "integer"
        },
        {
         "name": "modelyear_2007",
         "rawType": "int32",
         "type": "integer"
        },
        {
         "name": "modelyear_2008",
         "rawType": "int32",
         "type": "integer"
        },
        {
         "name": "modelyear_2009",
         "rawType": "int32",
         "type": "integer"
        },
        {
         "name": "modelyear_2010",
         "rawType": "int32",
         "type": "integer"
        },
        {
         "name": "modelyear_2011",
         "rawType": "int32",
         "type": "integer"
        },
        {
         "name": "modelyear_2012",
         "rawType": "int32",
         "type": "integer"
        },
        {
         "name": "modelyear_2013",
         "rawType": "int32",
         "type": "integer"
        },
        {
         "name": "modelyear_2014",
         "rawType": "int32",
         "type": "integer"
        },
        {
         "name": "modelyear_2015",
         "rawType": "int32",
         "type": "integer"
        },
        {
         "name": "modelyear_2016",
         "rawType": "int32",
         "type": "integer"
        },
        {
         "name": "modelyear_2017",
         "rawType": "int32",
         "type": "integer"
        },
        {
         "name": "modelyear_2018",
         "rawType": "int32",
         "type": "integer"
        },
        {
         "name": "modelyear_2019",
         "rawType": "int32",
         "type": "integer"
        },
        {
         "name": "fuel_Diesel and Diesel Hybrid",
         "rawType": "int32",
         "type": "integer"
        },
        {
         "name": "fuel_Flex-Fuel",
         "rawType": "int32",
         "type": "integer"
        },
        {
         "name": "fuel_Gasoline",
         "rawType": "int32",
         "type": "integer"
        },
        {
         "name": "fuel_Hybrid Gasoline",
         "rawType": "int32",
         "type": "integer"
        },
        {
         "name": "fuel_Natural Gas",
         "rawType": "int32",
         "type": "integer"
        },
        {
         "name": "fuel_Plug-in Hybrid",
         "rawType": "int32",
         "type": "integer"
        },
        {
         "name": "make_Type_A",
         "rawType": "int32",
         "type": "integer"
        },
        {
         "name": "make_Type_B",
         "rawType": "int32",
         "type": "integer"
        },
        {
         "name": "make_Type_C",
         "rawType": "int32",
         "type": "integer"
        },
        {
         "name": "make_Type_D",
         "rawType": "int32",
         "type": "integer"
        },
        {
         "name": "make_Type_F",
         "rawType": "int32",
         "type": "integer"
        },
        {
         "name": "make_Type_FF",
         "rawType": "int32",
         "type": "integer"
        },
        {
         "name": "make_Type_G",
         "rawType": "int32",
         "type": "integer"
        },
        {
         "name": "make_Type_GG",
         "rawType": "int32",
         "type": "integer"
        },
        {
         "name": "make_Type_H",
         "rawType": "int32",
         "type": "integer"
        },
        {
         "name": "make_Type_I",
         "rawType": "int32",
         "type": "integer"
        },
        {
         "name": "make_Type_II",
         "rawType": "int32",
         "type": "integer"
        },
        {
         "name": "make_Type_J",
         "rawType": "int32",
         "type": "integer"
        },
        {
         "name": "make_Type_K",
         "rawType": "int32",
         "type": "integer"
        },
        {
         "name": "make_Type_L",
         "rawType": "int32",
         "type": "integer"
        },
        {
         "name": "make_Type_M",
         "rawType": "int32",
         "type": "integer"
        },
        {
         "name": "make_Type_MM",
         "rawType": "int32",
         "type": "integer"
        },
        {
         "name": "make_Type_N",
         "rawType": "int32",
         "type": "integer"
        },
        {
         "name": "make_Type_NN",
         "rawType": "int32",
         "type": "integer"
        },
        {
         "name": "make_Type_O",
         "rawType": "int32",
         "type": "integer"
        },
        {
         "name": "make_Type_P",
         "rawType": "int32",
         "type": "integer"
        },
        {
         "name": "make_Type_Q",
         "rawType": "int32",
         "type": "integer"
        },
        {
         "name": "make_Type_R",
         "rawType": "int32",
         "type": "integer"
        },
        {
         "name": "make_Type_S",
         "rawType": "int32",
         "type": "integer"
        },
        {
         "name": "make_Type_T",
         "rawType": "int32",
         "type": "integer"
        },
        {
         "name": "make_Type_U",
         "rawType": "int32",
         "type": "integer"
        },
        {
         "name": "make_Type_V",
         "rawType": "int32",
         "type": "integer"
        },
        {
         "name": "make_Type_W",
         "rawType": "int32",
         "type": "integer"
        },
        {
         "name": "make_Type_X",
         "rawType": "int32",
         "type": "integer"
        },
        {
         "name": "make_Type_Y",
         "rawType": "int32",
         "type": "integer"
        }
       ],
       "conversionMethod": "pd.DataFrame",
       "ref": "9924f370-d039-4625-89d4-2fb51f147ff3",
       "rows": [
        [
         "0",
         "2018-10-01 00:00:00",
         "90000.0",
         "2006",
         "Gasoline",
         "OTHER/UNK",
         "1",
         "1.0",
         "2018",
         "10",
         "1",
         "90000",
         "0",
         "0",
         "0",
         "0",
         "0",
         "0",
         "0",
         "0",
         "0",
         "0",
         "0",
         "0",
         "0",
         "0",
         "0",
         "1",
         "0",
         "0",
         "0",
         "0",
         "0",
         "0",
         "0",
         "0",
         "0",
         "0",
         "0",
         "0",
         "0",
         "0",
         "0",
         "0",
         "0",
         "0",
         "0",
         "0",
         "0",
         "0",
         "0",
         "0",
         "0",
         "0",
         "0",
         "0",
         "0",
         "0",
         "0",
         "0"
        ],
        [
         "1",
         "2018-10-01 00:00:00",
         "90001.0",
         "2014",
         "Gasoline",
         "OTHER/UNK",
         "1",
         "1.0",
         "2018",
         "10",
         "1",
         "90001",
         "0",
         "0",
         "0",
         "0",
         "0",
         "0",
         "0",
         "1",
         "0",
         "0",
         "0",
         "0",
         "0",
         "0",
         "0",
         "1",
         "0",
         "0",
         "0",
         "0",
         "0",
         "0",
         "0",
         "0",
         "0",
         "0",
         "0",
         "0",
         "0",
         "0",
         "0",
         "0",
         "0",
         "0",
         "0",
         "0",
         "0",
         "0",
         "0",
         "0",
         "0",
         "0",
         "0",
         "0",
         "0",
         "0",
         "0",
         "0"
        ],
        [
         "3",
         "2018-10-01 00:00:00",
         "90000.0",
         "2017",
         "Gasoline",
         "OTHER/UNK",
         "1",
         "1.0",
         "2018",
         "10",
         "1",
         "90000",
         "0",
         "0",
         "0",
         "0",
         "0",
         "0",
         "0",
         "0",
         "0",
         "0",
         "1",
         "0",
         "0",
         "0",
         "0",
         "1",
         "0",
         "0",
         "0",
         "0",
         "0",
         "0",
         "0",
         "0",
         "0",
         "0",
         "0",
         "0",
         "0",
         "0",
         "0",
         "0",
         "0",
         "0",
         "0",
         "0",
         "0",
         "0",
         "0",
         "0",
         "0",
         "0",
         "0",
         "0",
         "0",
         "0",
         "0",
         "0"
        ],
        [
         "16",
         "2018-10-09 00:00:00",
         "90001.0",
         "2006",
         "Diesel and Diesel Hybrid",
         "Type_C",
         "0",
         "16.0",
         "2018",
         "10",
         "9",
         "90001",
         "0",
         "0",
         "0",
         "0",
         "0",
         "0",
         "0",
         "0",
         "0",
         "0",
         "0",
         "0",
         "0",
         "1",
         "0",
         "0",
         "0",
         "0",
         "0",
         "0",
         "0",
         "1",
         "0",
         "0",
         "0",
         "0",
         "0",
         "0",
         "0",
         "0",
         "0",
         "0",
         "0",
         "0",
         "0",
         "0",
         "0",
         "0",
         "0",
         "0",
         "0",
         "0",
         "0",
         "0",
         "0",
         "0",
         "0",
         "0"
        ],
        [
         "17",
         "2018-10-10 00:00:00",
         "90001.0",
         "2006",
         "Diesel and Diesel Hybrid",
         "OTHER/UNK",
         "0",
         "23.0",
         "2018",
         "10",
         "10",
         "90001",
         "0",
         "0",
         "0",
         "0",
         "0",
         "0",
         "0",
         "0",
         "0",
         "0",
         "0",
         "0",
         "0",
         "1",
         "0",
         "0",
         "0",
         "0",
         "0",
         "0",
         "0",
         "0",
         "0",
         "0",
         "0",
         "0",
         "0",
         "0",
         "0",
         "0",
         "0",
         "0",
         "0",
         "0",
         "0",
         "0",
         "0",
         "0",
         "0",
         "0",
         "0",
         "0",
         "0",
         "0",
         "0",
         "0",
         "0",
         "0"
        ]
       ],
       "shape": {
        "columns": 59,
        "rows": 5
       }
      },
      "text/html": [
       "<div>\n",
       "<style scoped>\n",
       "    .dataframe tbody tr th:only-of-type {\n",
       "        vertical-align: middle;\n",
       "    }\n",
       "\n",
       "    .dataframe tbody tr th {\n",
       "        vertical-align: top;\n",
       "    }\n",
       "\n",
       "    .dataframe thead th {\n",
       "        text-align: right;\n",
       "    }\n",
       "</style>\n",
       "<table border=\"1\" class=\"dataframe\">\n",
       "  <thead>\n",
       "    <tr style=\"text-align: right;\">\n",
       "      <th></th>\n",
       "      <th>date</th>\n",
       "      <th>zipcode</th>\n",
       "      <th>modelyear</th>\n",
       "      <th>fuel</th>\n",
       "      <th>make</th>\n",
       "      <th>lightduty</th>\n",
       "      <th>vehicle</th>\n",
       "      <th>year</th>\n",
       "      <th>month</th>\n",
       "      <th>day</th>\n",
       "      <th>...</th>\n",
       "      <th>make_Type_P</th>\n",
       "      <th>make_Type_Q</th>\n",
       "      <th>make_Type_R</th>\n",
       "      <th>make_Type_S</th>\n",
       "      <th>make_Type_T</th>\n",
       "      <th>make_Type_U</th>\n",
       "      <th>make_Type_V</th>\n",
       "      <th>make_Type_W</th>\n",
       "      <th>make_Type_X</th>\n",
       "      <th>make_Type_Y</th>\n",
       "    </tr>\n",
       "  </thead>\n",
       "  <tbody>\n",
       "    <tr>\n",
       "      <th>0</th>\n",
       "      <td>2018-10-01</td>\n",
       "      <td>90000.0</td>\n",
       "      <td>2006</td>\n",
       "      <td>Gasoline</td>\n",
       "      <td>OTHER/UNK</td>\n",
       "      <td>1</td>\n",
       "      <td>1.0</td>\n",
       "      <td>2018</td>\n",
       "      <td>10</td>\n",
       "      <td>1</td>\n",
       "      <td>...</td>\n",
       "      <td>0</td>\n",
       "      <td>0</td>\n",
       "      <td>0</td>\n",
       "      <td>0</td>\n",
       "      <td>0</td>\n",
       "      <td>0</td>\n",
       "      <td>0</td>\n",
       "      <td>0</td>\n",
       "      <td>0</td>\n",
       "      <td>0</td>\n",
       "    </tr>\n",
       "    <tr>\n",
       "      <th>1</th>\n",
       "      <td>2018-10-01</td>\n",
       "      <td>90001.0</td>\n",
       "      <td>2014</td>\n",
       "      <td>Gasoline</td>\n",
       "      <td>OTHER/UNK</td>\n",
       "      <td>1</td>\n",
       "      <td>1.0</td>\n",
       "      <td>2018</td>\n",
       "      <td>10</td>\n",
       "      <td>1</td>\n",
       "      <td>...</td>\n",
       "      <td>0</td>\n",
       "      <td>0</td>\n",
       "      <td>0</td>\n",
       "      <td>0</td>\n",
       "      <td>0</td>\n",
       "      <td>0</td>\n",
       "      <td>0</td>\n",
       "      <td>0</td>\n",
       "      <td>0</td>\n",
       "      <td>0</td>\n",
       "    </tr>\n",
       "    <tr>\n",
       "      <th>3</th>\n",
       "      <td>2018-10-01</td>\n",
       "      <td>90000.0</td>\n",
       "      <td>2017</td>\n",
       "      <td>Gasoline</td>\n",
       "      <td>OTHER/UNK</td>\n",
       "      <td>1</td>\n",
       "      <td>1.0</td>\n",
       "      <td>2018</td>\n",
       "      <td>10</td>\n",
       "      <td>1</td>\n",
       "      <td>...</td>\n",
       "      <td>0</td>\n",
       "      <td>0</td>\n",
       "      <td>0</td>\n",
       "      <td>0</td>\n",
       "      <td>0</td>\n",
       "      <td>0</td>\n",
       "      <td>0</td>\n",
       "      <td>0</td>\n",
       "      <td>0</td>\n",
       "      <td>0</td>\n",
       "    </tr>\n",
       "    <tr>\n",
       "      <th>16</th>\n",
       "      <td>2018-10-09</td>\n",
       "      <td>90001.0</td>\n",
       "      <td>2006</td>\n",
       "      <td>Diesel and Diesel Hybrid</td>\n",
       "      <td>Type_C</td>\n",
       "      <td>0</td>\n",
       "      <td>16.0</td>\n",
       "      <td>2018</td>\n",
       "      <td>10</td>\n",
       "      <td>9</td>\n",
       "      <td>...</td>\n",
       "      <td>0</td>\n",
       "      <td>0</td>\n",
       "      <td>0</td>\n",
       "      <td>0</td>\n",
       "      <td>0</td>\n",
       "      <td>0</td>\n",
       "      <td>0</td>\n",
       "      <td>0</td>\n",
       "      <td>0</td>\n",
       "      <td>0</td>\n",
       "    </tr>\n",
       "    <tr>\n",
       "      <th>17</th>\n",
       "      <td>2018-10-10</td>\n",
       "      <td>90001.0</td>\n",
       "      <td>2006</td>\n",
       "      <td>Diesel and Diesel Hybrid</td>\n",
       "      <td>OTHER/UNK</td>\n",
       "      <td>0</td>\n",
       "      <td>23.0</td>\n",
       "      <td>2018</td>\n",
       "      <td>10</td>\n",
       "      <td>10</td>\n",
       "      <td>...</td>\n",
       "      <td>0</td>\n",
       "      <td>0</td>\n",
       "      <td>0</td>\n",
       "      <td>0</td>\n",
       "      <td>0</td>\n",
       "      <td>0</td>\n",
       "      <td>0</td>\n",
       "      <td>0</td>\n",
       "      <td>0</td>\n",
       "      <td>0</td>\n",
       "    </tr>\n",
       "  </tbody>\n",
       "</table>\n",
       "<p>5 rows × 59 columns</p>\n",
       "</div>"
      ],
      "text/plain": [
       "         date  zipcode modelyear                      fuel       make  \\\n",
       "0  2018-10-01  90000.0      2006                  Gasoline  OTHER/UNK   \n",
       "1  2018-10-01  90001.0      2014                  Gasoline  OTHER/UNK   \n",
       "3  2018-10-01  90000.0      2017                  Gasoline  OTHER/UNK   \n",
       "16 2018-10-09  90001.0      2006  Diesel and Diesel Hybrid     Type_C   \n",
       "17 2018-10-10  90001.0      2006  Diesel and Diesel Hybrid  OTHER/UNK   \n",
       "\n",
       "   lightduty  vehicle  year  month  day  ...  make_Type_P  make_Type_Q  \\\n",
       "0          1      1.0  2018     10    1  ...            0            0   \n",
       "1          1      1.0  2018     10    1  ...            0            0   \n",
       "3          1      1.0  2018     10    1  ...            0            0   \n",
       "16         0     16.0  2018     10    9  ...            0            0   \n",
       "17         0     23.0  2018     10   10  ...            0            0   \n",
       "\n",
       "    make_Type_R  make_Type_S  make_Type_T  make_Type_U  make_Type_V  \\\n",
       "0             0            0            0            0            0   \n",
       "1             0            0            0            0            0   \n",
       "3             0            0            0            0            0   \n",
       "16            0            0            0            0            0   \n",
       "17            0            0            0            0            0   \n",
       "\n",
       "    make_Type_W  make_Type_X  make_Type_Y  \n",
       "0             0            0            0  \n",
       "1             0            0            0  \n",
       "3             0            0            0  \n",
       "16            0            0            0  \n",
       "17            0            0            0  \n",
       "\n",
       "[5 rows x 59 columns]"
      ]
     },
     "execution_count": 93,
     "metadata": {},
     "output_type": "execute_result"
    }
   ],
   "source": [
    "df = pd.concat([df,data_dummy],axis=1)\n",
    "df.head()"
   ]
  },
  {
   "cell_type": "code",
   "execution_count": 94,
   "metadata": {},
   "outputs": [
    {
     "data": {
      "application/vnd.microsoft.datawrangler.viewer.v0+json": {
       "columns": [
        {
         "name": "index",
         "rawType": "int64",
         "type": "integer"
        },
        {
         "name": "lightduty",
         "rawType": "object",
         "type": "unknown"
        },
        {
         "name": "vehicle",
         "rawType": "float64",
         "type": "float"
        },
        {
         "name": "year",
         "rawType": "int32",
         "type": "integer"
        },
        {
         "name": "month",
         "rawType": "int32",
         "type": "integer"
        },
        {
         "name": "day",
         "rawType": "int32",
         "type": "integer"
        },
        {
         "name": "modelyear_2007",
         "rawType": "int32",
         "type": "integer"
        },
        {
         "name": "modelyear_2008",
         "rawType": "int32",
         "type": "integer"
        },
        {
         "name": "modelyear_2009",
         "rawType": "int32",
         "type": "integer"
        },
        {
         "name": "modelyear_2010",
         "rawType": "int32",
         "type": "integer"
        },
        {
         "name": "modelyear_2011",
         "rawType": "int32",
         "type": "integer"
        },
        {
         "name": "modelyear_2012",
         "rawType": "int32",
         "type": "integer"
        },
        {
         "name": "modelyear_2013",
         "rawType": "int32",
         "type": "integer"
        },
        {
         "name": "modelyear_2014",
         "rawType": "int32",
         "type": "integer"
        },
        {
         "name": "modelyear_2015",
         "rawType": "int32",
         "type": "integer"
        },
        {
         "name": "modelyear_2016",
         "rawType": "int32",
         "type": "integer"
        },
        {
         "name": "modelyear_2017",
         "rawType": "int32",
         "type": "integer"
        },
        {
         "name": "modelyear_2018",
         "rawType": "int32",
         "type": "integer"
        },
        {
         "name": "modelyear_2019",
         "rawType": "int32",
         "type": "integer"
        },
        {
         "name": "fuel_Diesel and Diesel Hybrid",
         "rawType": "int32",
         "type": "integer"
        },
        {
         "name": "fuel_Flex-Fuel",
         "rawType": "int32",
         "type": "integer"
        },
        {
         "name": "fuel_Gasoline",
         "rawType": "int32",
         "type": "integer"
        },
        {
         "name": "fuel_Hybrid Gasoline",
         "rawType": "int32",
         "type": "integer"
        },
        {
         "name": "fuel_Natural Gas",
         "rawType": "int32",
         "type": "integer"
        },
        {
         "name": "fuel_Plug-in Hybrid",
         "rawType": "int32",
         "type": "integer"
        },
        {
         "name": "make_Type_A",
         "rawType": "int32",
         "type": "integer"
        },
        {
         "name": "make_Type_B",
         "rawType": "int32",
         "type": "integer"
        },
        {
         "name": "make_Type_C",
         "rawType": "int32",
         "type": "integer"
        },
        {
         "name": "make_Type_D",
         "rawType": "int32",
         "type": "integer"
        },
        {
         "name": "make_Type_F",
         "rawType": "int32",
         "type": "integer"
        },
        {
         "name": "make_Type_FF",
         "rawType": "int32",
         "type": "integer"
        },
        {
         "name": "make_Type_G",
         "rawType": "int32",
         "type": "integer"
        },
        {
         "name": "make_Type_GG",
         "rawType": "int32",
         "type": "integer"
        },
        {
         "name": "make_Type_H",
         "rawType": "int32",
         "type": "integer"
        },
        {
         "name": "make_Type_I",
         "rawType": "int32",
         "type": "integer"
        },
        {
         "name": "make_Type_II",
         "rawType": "int32",
         "type": "integer"
        },
        {
         "name": "make_Type_J",
         "rawType": "int32",
         "type": "integer"
        },
        {
         "name": "make_Type_K",
         "rawType": "int32",
         "type": "integer"
        },
        {
         "name": "make_Type_L",
         "rawType": "int32",
         "type": "integer"
        },
        {
         "name": "make_Type_M",
         "rawType": "int32",
         "type": "integer"
        },
        {
         "name": "make_Type_MM",
         "rawType": "int32",
         "type": "integer"
        },
        {
         "name": "make_Type_N",
         "rawType": "int32",
         "type": "integer"
        },
        {
         "name": "make_Type_NN",
         "rawType": "int32",
         "type": "integer"
        },
        {
         "name": "make_Type_O",
         "rawType": "int32",
         "type": "integer"
        },
        {
         "name": "make_Type_P",
         "rawType": "int32",
         "type": "integer"
        },
        {
         "name": "make_Type_Q",
         "rawType": "int32",
         "type": "integer"
        },
        {
         "name": "make_Type_R",
         "rawType": "int32",
         "type": "integer"
        },
        {
         "name": "make_Type_S",
         "rawType": "int32",
         "type": "integer"
        },
        {
         "name": "make_Type_T",
         "rawType": "int32",
         "type": "integer"
        },
        {
         "name": "make_Type_U",
         "rawType": "int32",
         "type": "integer"
        },
        {
         "name": "make_Type_V",
         "rawType": "int32",
         "type": "integer"
        },
        {
         "name": "make_Type_W",
         "rawType": "int32",
         "type": "integer"
        },
        {
         "name": "make_Type_X",
         "rawType": "int32",
         "type": "integer"
        },
        {
         "name": "make_Type_Y",
         "rawType": "int32",
         "type": "integer"
        }
       ],
       "conversionMethod": "pd.DataFrame",
       "ref": "f33efcad-2c5e-4965-bfac-87a9cce3fa1d",
       "rows": [
        [
         "0",
         "1",
         "1.0",
         "2018",
         "10",
         "1",
         "0",
         "0",
         "0",
         "0",
         "0",
         "0",
         "0",
         "0",
         "0",
         "0",
         "0",
         "0",
         "0",
         "0",
         "0",
         "1",
         "0",
         "0",
         "0",
         "0",
         "0",
         "0",
         "0",
         "0",
         "0",
         "0",
         "0",
         "0",
         "0",
         "0",
         "0",
         "0",
         "0",
         "0",
         "0",
         "0",
         "0",
         "0",
         "0",
         "0",
         "0",
         "0",
         "0",
         "0",
         "0",
         "0",
         "0",
         "0"
        ],
        [
         "1",
         "1",
         "1.0",
         "2018",
         "10",
         "1",
         "0",
         "0",
         "0",
         "0",
         "0",
         "0",
         "0",
         "1",
         "0",
         "0",
         "0",
         "0",
         "0",
         "0",
         "0",
         "1",
         "0",
         "0",
         "0",
         "0",
         "0",
         "0",
         "0",
         "0",
         "0",
         "0",
         "0",
         "0",
         "0",
         "0",
         "0",
         "0",
         "0",
         "0",
         "0",
         "0",
         "0",
         "0",
         "0",
         "0",
         "0",
         "0",
         "0",
         "0",
         "0",
         "0",
         "0",
         "0"
        ],
        [
         "3",
         "1",
         "1.0",
         "2018",
         "10",
         "1",
         "0",
         "0",
         "0",
         "0",
         "0",
         "0",
         "0",
         "0",
         "0",
         "0",
         "1",
         "0",
         "0",
         "0",
         "0",
         "1",
         "0",
         "0",
         "0",
         "0",
         "0",
         "0",
         "0",
         "0",
         "0",
         "0",
         "0",
         "0",
         "0",
         "0",
         "0",
         "0",
         "0",
         "0",
         "0",
         "0",
         "0",
         "0",
         "0",
         "0",
         "0",
         "0",
         "0",
         "0",
         "0",
         "0",
         "0",
         "0"
        ],
        [
         "16",
         "0",
         "16.0",
         "2018",
         "10",
         "9",
         "0",
         "0",
         "0",
         "0",
         "0",
         "0",
         "0",
         "0",
         "0",
         "0",
         "0",
         "0",
         "0",
         "1",
         "0",
         "0",
         "0",
         "0",
         "0",
         "0",
         "0",
         "1",
         "0",
         "0",
         "0",
         "0",
         "0",
         "0",
         "0",
         "0",
         "0",
         "0",
         "0",
         "0",
         "0",
         "0",
         "0",
         "0",
         "0",
         "0",
         "0",
         "0",
         "0",
         "0",
         "0",
         "0",
         "0",
         "0"
        ],
        [
         "17",
         "0",
         "23.0",
         "2018",
         "10",
         "10",
         "0",
         "0",
         "0",
         "0",
         "0",
         "0",
         "0",
         "0",
         "0",
         "0",
         "0",
         "0",
         "0",
         "1",
         "0",
         "0",
         "0",
         "0",
         "0",
         "0",
         "0",
         "0",
         "0",
         "0",
         "0",
         "0",
         "0",
         "0",
         "0",
         "0",
         "0",
         "0",
         "0",
         "0",
         "0",
         "0",
         "0",
         "0",
         "0",
         "0",
         "0",
         "0",
         "0",
         "0",
         "0",
         "0",
         "0",
         "0"
        ]
       ],
       "shape": {
        "columns": 53,
        "rows": 5
       }
      },
      "text/html": [
       "<div>\n",
       "<style scoped>\n",
       "    .dataframe tbody tr th:only-of-type {\n",
       "        vertical-align: middle;\n",
       "    }\n",
       "\n",
       "    .dataframe tbody tr th {\n",
       "        vertical-align: top;\n",
       "    }\n",
       "\n",
       "    .dataframe thead th {\n",
       "        text-align: right;\n",
       "    }\n",
       "</style>\n",
       "<table border=\"1\" class=\"dataframe\">\n",
       "  <thead>\n",
       "    <tr style=\"text-align: right;\">\n",
       "      <th></th>\n",
       "      <th>lightduty</th>\n",
       "      <th>vehicle</th>\n",
       "      <th>year</th>\n",
       "      <th>month</th>\n",
       "      <th>day</th>\n",
       "      <th>modelyear_2007</th>\n",
       "      <th>modelyear_2008</th>\n",
       "      <th>modelyear_2009</th>\n",
       "      <th>modelyear_2010</th>\n",
       "      <th>modelyear_2011</th>\n",
       "      <th>...</th>\n",
       "      <th>make_Type_P</th>\n",
       "      <th>make_Type_Q</th>\n",
       "      <th>make_Type_R</th>\n",
       "      <th>make_Type_S</th>\n",
       "      <th>make_Type_T</th>\n",
       "      <th>make_Type_U</th>\n",
       "      <th>make_Type_V</th>\n",
       "      <th>make_Type_W</th>\n",
       "      <th>make_Type_X</th>\n",
       "      <th>make_Type_Y</th>\n",
       "    </tr>\n",
       "  </thead>\n",
       "  <tbody>\n",
       "    <tr>\n",
       "      <th>0</th>\n",
       "      <td>1</td>\n",
       "      <td>1.0</td>\n",
       "      <td>2018</td>\n",
       "      <td>10</td>\n",
       "      <td>1</td>\n",
       "      <td>0</td>\n",
       "      <td>0</td>\n",
       "      <td>0</td>\n",
       "      <td>0</td>\n",
       "      <td>0</td>\n",
       "      <td>...</td>\n",
       "      <td>0</td>\n",
       "      <td>0</td>\n",
       "      <td>0</td>\n",
       "      <td>0</td>\n",
       "      <td>0</td>\n",
       "      <td>0</td>\n",
       "      <td>0</td>\n",
       "      <td>0</td>\n",
       "      <td>0</td>\n",
       "      <td>0</td>\n",
       "    </tr>\n",
       "    <tr>\n",
       "      <th>1</th>\n",
       "      <td>1</td>\n",
       "      <td>1.0</td>\n",
       "      <td>2018</td>\n",
       "      <td>10</td>\n",
       "      <td>1</td>\n",
       "      <td>0</td>\n",
       "      <td>0</td>\n",
       "      <td>0</td>\n",
       "      <td>0</td>\n",
       "      <td>0</td>\n",
       "      <td>...</td>\n",
       "      <td>0</td>\n",
       "      <td>0</td>\n",
       "      <td>0</td>\n",
       "      <td>0</td>\n",
       "      <td>0</td>\n",
       "      <td>0</td>\n",
       "      <td>0</td>\n",
       "      <td>0</td>\n",
       "      <td>0</td>\n",
       "      <td>0</td>\n",
       "    </tr>\n",
       "    <tr>\n",
       "      <th>3</th>\n",
       "      <td>1</td>\n",
       "      <td>1.0</td>\n",
       "      <td>2018</td>\n",
       "      <td>10</td>\n",
       "      <td>1</td>\n",
       "      <td>0</td>\n",
       "      <td>0</td>\n",
       "      <td>0</td>\n",
       "      <td>0</td>\n",
       "      <td>0</td>\n",
       "      <td>...</td>\n",
       "      <td>0</td>\n",
       "      <td>0</td>\n",
       "      <td>0</td>\n",
       "      <td>0</td>\n",
       "      <td>0</td>\n",
       "      <td>0</td>\n",
       "      <td>0</td>\n",
       "      <td>0</td>\n",
       "      <td>0</td>\n",
       "      <td>0</td>\n",
       "    </tr>\n",
       "    <tr>\n",
       "      <th>16</th>\n",
       "      <td>0</td>\n",
       "      <td>16.0</td>\n",
       "      <td>2018</td>\n",
       "      <td>10</td>\n",
       "      <td>9</td>\n",
       "      <td>0</td>\n",
       "      <td>0</td>\n",
       "      <td>0</td>\n",
       "      <td>0</td>\n",
       "      <td>0</td>\n",
       "      <td>...</td>\n",
       "      <td>0</td>\n",
       "      <td>0</td>\n",
       "      <td>0</td>\n",
       "      <td>0</td>\n",
       "      <td>0</td>\n",
       "      <td>0</td>\n",
       "      <td>0</td>\n",
       "      <td>0</td>\n",
       "      <td>0</td>\n",
       "      <td>0</td>\n",
       "    </tr>\n",
       "    <tr>\n",
       "      <th>17</th>\n",
       "      <td>0</td>\n",
       "      <td>23.0</td>\n",
       "      <td>2018</td>\n",
       "      <td>10</td>\n",
       "      <td>10</td>\n",
       "      <td>0</td>\n",
       "      <td>0</td>\n",
       "      <td>0</td>\n",
       "      <td>0</td>\n",
       "      <td>0</td>\n",
       "      <td>...</td>\n",
       "      <td>0</td>\n",
       "      <td>0</td>\n",
       "      <td>0</td>\n",
       "      <td>0</td>\n",
       "      <td>0</td>\n",
       "      <td>0</td>\n",
       "      <td>0</td>\n",
       "      <td>0</td>\n",
       "      <td>0</td>\n",
       "      <td>0</td>\n",
       "    </tr>\n",
       "  </tbody>\n",
       "</table>\n",
       "<p>5 rows × 53 columns</p>\n",
       "</div>"
      ],
      "text/plain": [
       "   lightduty  vehicle  year  month  day  modelyear_2007  modelyear_2008  \\\n",
       "0          1      1.0  2018     10    1               0               0   \n",
       "1          1      1.0  2018     10    1               0               0   \n",
       "3          1      1.0  2018     10    1               0               0   \n",
       "16         0     16.0  2018     10    9               0               0   \n",
       "17         0     23.0  2018     10   10               0               0   \n",
       "\n",
       "    modelyear_2009  modelyear_2010  modelyear_2011  ...  make_Type_P  \\\n",
       "0                0               0               0  ...            0   \n",
       "1                0               0               0  ...            0   \n",
       "3                0               0               0  ...            0   \n",
       "16               0               0               0  ...            0   \n",
       "17               0               0               0  ...            0   \n",
       "\n",
       "    make_Type_Q  make_Type_R  make_Type_S  make_Type_T  make_Type_U  \\\n",
       "0             0            0            0            0            0   \n",
       "1             0            0            0            0            0   \n",
       "3             0            0            0            0            0   \n",
       "16            0            0            0            0            0   \n",
       "17            0            0            0            0            0   \n",
       "\n",
       "    make_Type_V  make_Type_W  make_Type_X  make_Type_Y  \n",
       "0             0            0            0            0  \n",
       "1             0            0            0            0  \n",
       "3             0            0            0            0  \n",
       "16            0            0            0            0  \n",
       "17            0            0            0            0  \n",
       "\n",
       "[5 rows x 53 columns]"
      ]
     },
     "execution_count": 94,
     "metadata": {},
     "output_type": "execute_result"
    }
   ],
   "source": [
    "df = df.drop(['date','zipcode','modelyear','fuel','make'],axis=1)\n",
    "df.head()"
   ]
  },
  {
   "cell_type": "code",
   "execution_count": null,
   "metadata": {},
   "outputs": [],
   "source": []
  }
 ],
 "metadata": {
  "kernelspec": {
   "display_name": "base",
   "language": "python",
   "name": "python3"
  },
  "language_info": {
   "codemirror_mode": {
    "name": "ipython",
    "version": 3
   },
   "file_extension": ".py",
   "mimetype": "text/x-python",
   "name": "python",
   "nbconvert_exporter": "python",
   "pygments_lexer": "ipython3",
   "version": "3.12.4"
  }
 },
 "nbformat": 4,
 "nbformat_minor": 2
}
