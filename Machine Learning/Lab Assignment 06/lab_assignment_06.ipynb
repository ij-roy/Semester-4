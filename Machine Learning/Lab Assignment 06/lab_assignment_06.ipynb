{
 "cells": [
  {
   "cell_type": "markdown",
   "metadata": {},
   "source": [
    "## Lab Assignment 06"
   ]
  },
  {
   "cell_type": "code",
   "execution_count": 77,
   "metadata": {},
   "outputs": [],
   "source": [
    "# Imports\n",
    "import numpy as np\n",
    "import pandas as pd\n",
    "import matplotlib.pyplot as plt\n",
    "from sklearn.model_selection import train_test_split\n",
    "from scipy.optimize import fmin_tnc"
   ]
  },
  {
   "cell_type": "markdown",
   "metadata": {},
   "source": [
    "## Importing Data\n",
    "\n",
    "***Task :***\n",
    "Randomly shuffle the dataset by taking a random seed of “42”. Create a training and testing set \n",
    "partitions in the ratio of 70% : 30% by taking last 30% rows in the test set. The remaining rows will be \n",
    "the training set. Make sure that the columns have the same datatypes. Display the mean values for each\n",
    "columns and the number of samples belonging to each category (admitted and not-admitted)"
   ]
  },
  {
   "cell_type": "code",
   "execution_count": 78,
   "metadata": {},
   "outputs": [
    {
     "data": {
      "application/vnd.microsoft.datawrangler.viewer.v0+json": {
       "columns": [
        {
         "name": "index",
         "rawType": "int64",
         "type": "integer"
        },
        {
         "name": "exam1",
         "rawType": "float64",
         "type": "float"
        },
        {
         "name": "exam2",
         "rawType": "float64",
         "type": "float"
        },
        {
         "name": "admitted",
         "rawType": "int64",
         "type": "integer"
        }
       ],
       "conversionMethod": "pd.DataFrame",
       "ref": "b47d186b-3b3c-453c-9c28-3fbeefa74d7b",
       "rows": [
        [
         "0",
         "34.62365962451697",
         "78.0246928153624",
         "0"
        ],
        [
         "1",
         "30.28671076822607",
         "43.89499752400101",
         "0"
        ],
        [
         "2",
         "35.84740876993872",
         "72.90219802708364",
         "0"
        ],
        [
         "3",
         "60.18259938620976",
         "86.30855209546826",
         "1"
        ],
        [
         "4",
         "79.0327360507101",
         "75.3443764369103",
         "1"
        ]
       ],
       "shape": {
        "columns": 3,
        "rows": 5
       }
      },
      "text/html": [
       "<div>\n",
       "<style scoped>\n",
       "    .dataframe tbody tr th:only-of-type {\n",
       "        vertical-align: middle;\n",
       "    }\n",
       "\n",
       "    .dataframe tbody tr th {\n",
       "        vertical-align: top;\n",
       "    }\n",
       "\n",
       "    .dataframe thead th {\n",
       "        text-align: right;\n",
       "    }\n",
       "</style>\n",
       "<table border=\"1\" class=\"dataframe\">\n",
       "  <thead>\n",
       "    <tr style=\"text-align: right;\">\n",
       "      <th></th>\n",
       "      <th>exam1</th>\n",
       "      <th>exam2</th>\n",
       "      <th>admitted</th>\n",
       "    </tr>\n",
       "  </thead>\n",
       "  <tbody>\n",
       "    <tr>\n",
       "      <th>0</th>\n",
       "      <td>34.623660</td>\n",
       "      <td>78.024693</td>\n",
       "      <td>0</td>\n",
       "    </tr>\n",
       "    <tr>\n",
       "      <th>1</th>\n",
       "      <td>30.286711</td>\n",
       "      <td>43.894998</td>\n",
       "      <td>0</td>\n",
       "    </tr>\n",
       "    <tr>\n",
       "      <th>2</th>\n",
       "      <td>35.847409</td>\n",
       "      <td>72.902198</td>\n",
       "      <td>0</td>\n",
       "    </tr>\n",
       "    <tr>\n",
       "      <th>3</th>\n",
       "      <td>60.182599</td>\n",
       "      <td>86.308552</td>\n",
       "      <td>1</td>\n",
       "    </tr>\n",
       "    <tr>\n",
       "      <th>4</th>\n",
       "      <td>79.032736</td>\n",
       "      <td>75.344376</td>\n",
       "      <td>1</td>\n",
       "    </tr>\n",
       "  </tbody>\n",
       "</table>\n",
       "</div>"
      ],
      "text/plain": [
       "       exam1      exam2  admitted\n",
       "0  34.623660  78.024693         0\n",
       "1  30.286711  43.894998         0\n",
       "2  35.847409  72.902198         0\n",
       "3  60.182599  86.308552         1\n",
       "4  79.032736  75.344376         1"
      ]
     },
     "execution_count": 78,
     "metadata": {},
     "output_type": "execute_result"
    }
   ],
   "source": [
    "# Loading the Dataset from text file\n",
    "df = pd.read_csv('student_marks.txt',header=None,names = [\"exam1\", \"exam2\", \"admitted\"])\n",
    "\n",
    "df.head()"
   ]
  },
  {
   "cell_type": "code",
   "execution_count": 79,
   "metadata": {},
   "outputs": [
    {
     "data": {
      "application/vnd.microsoft.datawrangler.viewer.v0+json": {
       "columns": [
        {
         "name": "index",
         "rawType": "int64",
         "type": "integer"
        },
        {
         "name": "exam1",
         "rawType": "float64",
         "type": "float"
        },
        {
         "name": "exam2",
         "rawType": "float64",
         "type": "float"
        },
        {
         "name": "admitted",
         "rawType": "int64",
         "type": "integer"
        }
       ],
       "conversionMethod": "pd.DataFrame",
       "ref": "5fefdd62-f9f3-4a09-be43-9cd6fc3c6648",
       "rows": [
        [
         "0",
         "57.23870631569862",
         "59.51428198012956",
         "1"
        ],
        [
         "1",
         "34.52451385320009",
         "60.39634245837173",
         "0"
        ],
        [
         "2",
         "32.72283304060323",
         "43.30717306430063",
         "0"
        ],
        [
         "3",
         "62.22267576120188",
         "52.06099194836679",
         "0"
        ],
        [
         "4",
         "51.04775177128865",
         "45.82270145776001",
         "0"
        ]
       ],
       "shape": {
        "columns": 3,
        "rows": 5
       }
      },
      "text/html": [
       "<div>\n",
       "<style scoped>\n",
       "    .dataframe tbody tr th:only-of-type {\n",
       "        vertical-align: middle;\n",
       "    }\n",
       "\n",
       "    .dataframe tbody tr th {\n",
       "        vertical-align: top;\n",
       "    }\n",
       "\n",
       "    .dataframe thead th {\n",
       "        text-align: right;\n",
       "    }\n",
       "</style>\n",
       "<table border=\"1\" class=\"dataframe\">\n",
       "  <thead>\n",
       "    <tr style=\"text-align: right;\">\n",
       "      <th></th>\n",
       "      <th>exam1</th>\n",
       "      <th>exam2</th>\n",
       "      <th>admitted</th>\n",
       "    </tr>\n",
       "  </thead>\n",
       "  <tbody>\n",
       "    <tr>\n",
       "      <th>0</th>\n",
       "      <td>57.238706</td>\n",
       "      <td>59.514282</td>\n",
       "      <td>1</td>\n",
       "    </tr>\n",
       "    <tr>\n",
       "      <th>1</th>\n",
       "      <td>34.524514</td>\n",
       "      <td>60.396342</td>\n",
       "      <td>0</td>\n",
       "    </tr>\n",
       "    <tr>\n",
       "      <th>2</th>\n",
       "      <td>32.722833</td>\n",
       "      <td>43.307173</td>\n",
       "      <td>0</td>\n",
       "    </tr>\n",
       "    <tr>\n",
       "      <th>3</th>\n",
       "      <td>62.222676</td>\n",
       "      <td>52.060992</td>\n",
       "      <td>0</td>\n",
       "    </tr>\n",
       "    <tr>\n",
       "      <th>4</th>\n",
       "      <td>51.047752</td>\n",
       "      <td>45.822701</td>\n",
       "      <td>0</td>\n",
       "    </tr>\n",
       "  </tbody>\n",
       "</table>\n",
       "</div>"
      ],
      "text/plain": [
       "       exam1      exam2  admitted\n",
       "0  57.238706  59.514282         1\n",
       "1  34.524514  60.396342         0\n",
       "2  32.722833  43.307173         0\n",
       "3  62.222676  52.060992         0\n",
       "4  51.047752  45.822701         0"
      ]
     },
     "execution_count": 79,
     "metadata": {},
     "output_type": "execute_result"
    }
   ],
   "source": [
    "# Shuffling Dataset with seed 42\n",
    "df = df.sample(frac=1, random_state=42).reset_index(drop=True)\n",
    "df.head()"
   ]
  },
  {
   "cell_type": "code",
   "execution_count": 80,
   "metadata": {},
   "outputs": [],
   "source": [
    "# Splitting into Trainig and testing Dataset\n",
    "train_size = int(0.7 * len(df))\n",
    "train_df = df.iloc[:train_size]\n",
    "test_df = df.iloc[train_size:]"
   ]
  },
  {
   "cell_type": "code",
   "execution_count": 81,
   "metadata": {},
   "outputs": [
    {
     "name": "stdout",
     "output_type": "stream",
     "text": [
      "<class 'pandas.core.frame.DataFrame'>\n",
      "RangeIndex: 70 entries, 0 to 69\n",
      "Data columns (total 3 columns):\n",
      " #   Column    Non-Null Count  Dtype  \n",
      "---  ------    --------------  -----  \n",
      " 0   exam1     70 non-null     float64\n",
      " 1   exam2     70 non-null     float64\n",
      " 2   admitted  70 non-null     int64  \n",
      "dtypes: float64(2), int64(1)\n",
      "memory usage: 1.8 KB\n",
      "<class 'pandas.core.frame.DataFrame'>\n",
      "RangeIndex: 30 entries, 70 to 99\n",
      "Data columns (total 3 columns):\n",
      " #   Column    Non-Null Count  Dtype  \n",
      "---  ------    --------------  -----  \n",
      " 0   exam1     30 non-null     float64\n",
      " 1   exam2     30 non-null     float64\n",
      " 2   admitted  30 non-null     int64  \n",
      "dtypes: float64(2), int64(1)\n",
      "memory usage: 852.0 bytes\n"
     ]
    }
   ],
   "source": [
    "# Checking column Datatypes\n",
    "train_df.info()\n",
    "test_df.info()"
   ]
  },
  {
   "cell_type": "code",
   "execution_count": 82,
   "metadata": {},
   "outputs": [
    {
     "name": "stdout",
     "output_type": "stream",
     "text": [
      "Mean Values:\n",
      "exam1       65.644274\n",
      "exam2       66.221998\n",
      "admitted     0.600000\n",
      "dtype: float64\n",
      "\n",
      "Categorical Values:\n",
      "admitted\n",
      "1    60\n",
      "0    40\n",
      "Name: count, dtype: int64\n"
     ]
    }
   ],
   "source": [
    "# Displaying Mean value and categorical counts\n",
    "print(\"Mean Values:\")\n",
    "print(df.mean())\n",
    "\n",
    "print(\"\\nCategorical Values:\")\n",
    "print(df['admitted'].value_counts())"
   ]
  },
  {
   "cell_type": "markdown",
   "metadata": {},
   "source": [
    "## Data Visualisation\n",
    "***Task :*** \n",
    "Create a scatter plot using the training set and mark the points differently for different classes"
   ]
  },
  {
   "cell_type": "code",
   "execution_count": 83,
   "metadata": {},
   "outputs": [
    {
     "data": {
      "image/png": "[encoded data removed]",
      "text/plain": [
       "<Figure size 640x480 with 1 Axes>"
      ]
     },
     "metadata": {},
     "output_type": "display_data"
    }
   ],
   "source": [
    "plt.scatter(train_df[train_df['admitted'] == 1]['exam1'], train_df[train_df['admitted'] == 1]['exam2'], label='Admitted', marker='+', color='green')\n",
    "plt.scatter(train_df[train_df['admitted'] == 0]['exam1'], train_df[train_df['admitted'] == 0]['exam2'], label='Not Admitted', marker='o', color='red')\n",
    "\n",
    "plt.xlabel(\"Exam 1 Score\")\n",
    "plt.ylabel(\"Exam 2 Score\")\n",
    "plt.legend()\n",
    "plt.title(\"Scatter Plot\")\n",
    "plt.show()"
   ]
  },
  {
   "cell_type": "markdown",
   "metadata": {},
   "source": [
    "## Classification Using Logistic Regression"
   ]
  },
  {
   "cell_type": "code",
   "execution_count": null,
   "metadata": {},
   "outputs": [],
   "source": [
    "# Class made by ij for Logistic Regression cause mentioned in the question can't use import Logistic Regression\n",
    "class MyLogisticRegression:\n",
    "    def __init__(self):\n",
    "        self.theta = None\n",
    "    \n",
    "    def sigmoid(self, z):\n",
    "        return 1 / (1 + np.exp(-z))\n",
    "    \n",
    "    def h_theta_x(self, theta, x):\n",
    "        return self.sigmoid(np.dot(x, theta))\n",
    "    \n",
    "    def cost_function(self, theta, x, y):\n",
    "        m = len(y)\n",
    "        h = self.h_theta_x(theta, x)\n",
    "        return (-1 / m) * np.sum(y * np.log(h) + (1 - y) * np.log(1 - h))\n",
    "    \n",
    "    def gradient(self, theta, x, y):\n",
    "        m = len(y)\n",
    "        return (1 / m) * np.dot(x.T, self.h_theta_x(theta, x) - y)\n",
    "    \n",
    "    def fit(self, x, y):\n",
    "        theta = np.zeros(x.shape[1])\n",
    "        self.theta = fmin_tnc(func=self.cost_function, x0=theta, fprime=self.gradient, args=(x, y))[0]\n",
    "        return self.theta\n"
   ]
  },
  {
   "cell_type": "code",
   "execution_count": 85,
   "metadata": {},
   "outputs": [
    {
     "name": "stdout",
     "output_type": "stream",
     "text": [
      "Learned Parameters (Theta): [-24.66570854   0.19335213   0.21123527]\n"
     ]
    }
   ],
   "source": [
    "# Prepare data for logistic regression\n",
    "x_train = np.c_[np.ones(train_df.shape[0]), train_df[['exam1', 'exam2']]]\n",
    "y_train = train_df['admitted'].values\n",
    "\n",
    "x_test = np.c_[np.ones(test_df.shape[0]), test_df[['exam1', 'exam2']]]\n",
    "y_test = test_df['admitted'].values\n",
    "\n",
    "# Train model\n",
    "model = MyLogisticRegression()\n",
    "theta = model.fit(x_train, y_train)\n",
    "\n",
    "print(\"Learned Parameters (Theta):\", theta)\n"
   ]
  },
  {
   "cell_type": "code",
   "execution_count": 99,
   "metadata": {},
   "outputs": [
    {
     "data": {
      "image/png": "[encoded data removed]",
      "text/plain": [
       "<Figure size 640x480 with 1 Axes>"
      ]
     },
     "metadata": {},
     "output_type": "display_data"
    }
   ],
   "source": [
    "x_values = [min(x_train[:, 1]), max(x_train[:, 1])]\n",
    "y_values = - (theta[0] + np.dot(theta[1], x_values)) / theta[2]\n",
    "\n",
    "plt.scatter(train_df[train_df['admitted'] == 1]['exam1'], train_df[train_df['admitted'] == 1]['exam2'], label=\"Admitted\", marker=\"+\", color=\"green\")\n",
    "plt.scatter(train_df[train_df['admitted'] == 0]['exam1'], train_df[train_df['admitted'] == 0]['exam2'], label=\"Not Admitted\", marker=\"o\", color=\"red\")\n",
    "\n",
    "plt.plot(x_values, y_values, label=\"Decision Boundary\", color=\"blue\")\n",
    "plt.xlabel(\"Exam 1 Score\")\n",
    "plt.ylabel(\"Exam 2 Score\")\n",
    "plt.legend()\n",
    "plt.title(\"Logistic Regression Decision Boundary\")\n",
    "plt.show()\n"
   ]
  },
  {
   "cell_type": "code",
   "execution_count": 87,
   "metadata": {},
   "outputs": [],
   "source": [
    "def precision(y_true, y_pred):\n",
    "    tp = np.sum((y_true == 1) & (y_pred == 1))\n",
    "    fp = np.sum((y_true == 0) & (y_pred == 1))\n",
    "    return tp / (tp + fp) if (tp + fp) > 0 else 0\n",
    "\n",
    "def recall(y_true, y_pred):\n",
    "    tp = np.sum((y_true == 1) & (y_pred == 1))\n",
    "    fn = np.sum((y_true == 1) & (y_pred == 0))\n",
    "    return tp / (tp + fn) if (tp + fn) > 0 else 0\n",
    "\n",
    "def f1_score(y_true, y_pred):\n",
    "    p = precision(y_true, y_pred)\n",
    "    r = recall(y_true, y_pred)\n",
    "    return 2 * (p * r) / (p + r) if (p + r) > 0 else 0\n"
   ]
  },
  {
   "cell_type": "code",
   "execution_count": 88,
   "metadata": {},
   "outputs": [
    {
     "name": "stdout",
     "output_type": "stream",
     "text": [
      "Precision: 0.8421052631578947\n",
      "Recall: 0.9411764705882353\n",
      "F1 Score: 0.8888888888888888\n"
     ]
    }
   ],
   "source": [
    "y_pred = model.h_theta_x(theta, x_test) >= 0.5\n",
    "\n",
    "print(\"Precision:\", precision(y_test, y_pred))\n",
    "print(\"Recall:\", recall(y_test, y_pred))\n",
    "print(\"F1 Score:\", f1_score(y_test, y_pred))\n"
   ]
  },
  {
   "cell_type": "code",
   "execution_count": 92,
   "metadata": {},
   "outputs": [
    {
     "data": {
      "application/vnd.microsoft.datawrangler.viewer.v0+json": {
       "columns": [
        {
         "name": "index",
         "rawType": "int64",
         "type": "integer"
        },
        {
         "name": "exam1",
         "rawType": "float64",
         "type": "float"
        },
        {
         "name": "exam2",
         "rawType": "float64",
         "type": "float"
        },
        {
         "name": "admitted",
         "rawType": "int64",
         "type": "integer"
        },
        {
         "name": "exam1^2",
         "rawType": "float64",
         "type": "float"
        },
        {
         "name": "exam2^2",
         "rawType": "float64",
         "type": "float"
        },
        {
         "name": "exam1*exam2",
         "rawType": "float64",
         "type": "float"
        }
       ],
       "conversionMethod": "pd.DataFrame",
       "ref": "cb87780a-5f73-4e2c-8989-53bd907a775f",
       "rows": [
        [
         "0",
         "57.23870631569862",
         "59.51428198012956",
         "1",
         "3276.2695006947974",
         "3541.9497596103743",
         "3406.5205078503104"
        ],
        [
         "1",
         "34.52451385320009",
         "60.39634245837173",
         "0",
         "1191.942056799805",
         "3647.7181823489154",
         "2085.1543618866717"
        ],
        [
         "2",
         "32.72283304060323",
         "43.30717306430063",
         "0",
         "1070.7838022031942",
         "1875.5112388212858",
         "1417.1333936436188"
        ],
        [
         "3",
         "62.22267576120188",
         "52.06099194836679",
         "0",
         "3871.66137888366",
         "2710.346882647912",
         "3239.374221809768"
        ],
        [
         "4",
         "51.04775177128865",
         "45.82270145776001",
         "0",
         "2605.872960903104",
         "2099.7199688870014",
         "2339.1458895056"
        ]
       ],
       "shape": {
        "columns": 6,
        "rows": 5
       }
      },
      "text/html": [
       "<div>\n",
       "<style scoped>\n",
       "    .dataframe tbody tr th:only-of-type {\n",
       "        vertical-align: middle;\n",
       "    }\n",
       "\n",
       "    .dataframe tbody tr th {\n",
       "        vertical-align: top;\n",
       "    }\n",
       "\n",
       "    .dataframe thead th {\n",
       "        text-align: right;\n",
       "    }\n",
       "</style>\n",
       "<table border=\"1\" class=\"dataframe\">\n",
       "  <thead>\n",
       "    <tr style=\"text-align: right;\">\n",
       "      <th></th>\n",
       "      <th>exam1</th>\n",
       "      <th>exam2</th>\n",
       "      <th>admitted</th>\n",
       "      <th>exam1^2</th>\n",
       "      <th>exam2^2</th>\n",
       "      <th>exam1*exam2</th>\n",
       "    </tr>\n",
       "  </thead>\n",
       "  <tbody>\n",
       "    <tr>\n",
       "      <th>0</th>\n",
       "      <td>57.238706</td>\n",
       "      <td>59.514282</td>\n",
       "      <td>1</td>\n",
       "      <td>3276.269501</td>\n",
       "      <td>3541.949760</td>\n",
       "      <td>3406.520508</td>\n",
       "    </tr>\n",
       "    <tr>\n",
       "      <th>1</th>\n",
       "      <td>34.524514</td>\n",
       "      <td>60.396342</td>\n",
       "      <td>0</td>\n",
       "      <td>1191.942057</td>\n",
       "      <td>3647.718182</td>\n",
       "      <td>2085.154362</td>\n",
       "    </tr>\n",
       "    <tr>\n",
       "      <th>2</th>\n",
       "      <td>32.722833</td>\n",
       "      <td>43.307173</td>\n",
       "      <td>0</td>\n",
       "      <td>1070.783802</td>\n",
       "      <td>1875.511239</td>\n",
       "      <td>1417.133394</td>\n",
       "    </tr>\n",
       "    <tr>\n",
       "      <th>3</th>\n",
       "      <td>62.222676</td>\n",
       "      <td>52.060992</td>\n",
       "      <td>0</td>\n",
       "      <td>3871.661379</td>\n",
       "      <td>2710.346883</td>\n",
       "      <td>3239.374222</td>\n",
       "    </tr>\n",
       "    <tr>\n",
       "      <th>4</th>\n",
       "      <td>51.047752</td>\n",
       "      <td>45.822701</td>\n",
       "      <td>0</td>\n",
       "      <td>2605.872961</td>\n",
       "      <td>2099.719969</td>\n",
       "      <td>2339.145890</td>\n",
       "    </tr>\n",
       "  </tbody>\n",
       "</table>\n",
       "</div>"
      ],
      "text/plain": [
       "       exam1      exam2  admitted      exam1^2      exam2^2  exam1*exam2\n",
       "0  57.238706  59.514282         1  3276.269501  3541.949760  3406.520508\n",
       "1  34.524514  60.396342         0  1191.942057  3647.718182  2085.154362\n",
       "2  32.722833  43.307173         0  1070.783802  1875.511239  1417.133394\n",
       "3  62.222676  52.060992         0  3871.661379  2710.346883  3239.374222\n",
       "4  51.047752  45.822701         0  2605.872961  2099.719969  2339.145890"
      ]
     },
     "execution_count": 92,
     "metadata": {},
     "output_type": "execute_result"
    }
   ],
   "source": [
    "train_df.loc[:, 'exam1^2'] = train_df['exam1'] ** 2\n",
    "train_df.loc[:, 'exam2^2'] = train_df['exam2'] ** 2\n",
    "train_df.loc[:, 'exam1*exam2'] = train_df['exam1'] * train_df['exam2']\n",
    "\n",
    "test_df.loc[:, 'exam1^2'] = test_df['exam1'] ** 2\n",
    "test_df.loc[:, 'exam2^2'] = test_df['exam2'] ** 2\n",
    "test_df.loc[:, 'exam1*exam2'] = test_df['exam1'] * test_df['exam2']\n",
    "\n",
    "\n",
    "x_train_aug = np.c_[np.ones(train_df.shape[0]), train_df[['exam1', 'exam2', 'exam1^2', 'exam2^2', 'exam1*exam2']]]\n",
    "x_test_aug = np.c_[np.ones(test_df.shape[0]), test_df[['exam1', 'exam2', 'exam1^2', 'exam2^2', 'exam1*exam2']]]\n",
    "train_df.head()\n"
   ]
  },
  {
   "cell_type": "code",
   "execution_count": 93,
   "metadata": {},
   "outputs": [
    {
     "name": "stdout",
     "output_type": "stream",
     "text": [
      "Augmented Precision: 0.9444444444444444\n",
      "Augmented Recall: 1.0\n",
      "Augmented F1 Score: 0.9714285714285714\n"
     ]
    },
    {
     "name": "stderr",
     "output_type": "stream",
     "text": [
      "C:\\Users\\roybe\\AppData\\Local\\Temp\\ipykernel_28980\\4063701782.py:15: RuntimeWarning: divide by zero encountered in log\n",
      "  return (-1 / m) * np.sum(y * np.log(h) + (1 - y) * np.log(1 - h))\n",
      "C:\\Users\\roybe\\AppData\\Local\\Temp\\ipykernel_28980\\4063701782.py:15: RuntimeWarning: invalid value encountered in multiply\n",
      "  return (-1 / m) * np.sum(y * np.log(h) + (1 - y) * np.log(1 - h))\n"
     ]
    }
   ],
   "source": [
    "model_aug = MyLogisticRegression()\n",
    "theta_aug = model_aug.fit(x_train_aug, y_train)\n",
    "\n",
    "y_pred_aug = model_aug.h_theta_x(theta_aug, x_test_aug) >= 0.5\n",
    "\n",
    "print(\"Augmented Precision:\", precision(y_test, y_pred_aug))\n",
    "print(\"Augmented Recall:\", recall(y_test, y_pred_aug))\n",
    "print(\"Augmented F1 Score:\", f1_score(y_test, y_pred_aug))\n"
   ]
  }
 ],
 "metadata": {
  "kernelspec": {
   "display_name": "base",
   "language": "python",
   "name": "python3"
  },
  "language_info": {
   "codemirror_mode": {
    "name": "ipython",
    "version": 3
   },
   "file_extension": ".py",
   "mimetype": "text/x-python",
   "name": "python",
   "nbconvert_exporter": "python",
   "pygments_lexer": "ipython3",
   "version": "3.12.4"
  }
 },
 "nbformat": 4,
 "nbformat_minor": 2
}
